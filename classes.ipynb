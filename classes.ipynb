{
 "cells": [
  {
   "cell_type": "code",
   "execution_count": 42,
   "metadata": {},
   "outputs": [],
   "source": [
    "from math import sqrt\n",
    "\n",
    "class Rocket():\n",
    "    '''Define a Rocket object'''\n",
    "    \n",
    "    def __init__(self, name, cap, x=0, y=0):\n",
    "        self.x = x\n",
    "        self.y = y\n",
    "        self.name = name\n",
    "        self.cap = cap\n",
    "    \n",
    "    def moving(self, x_move=0, y_move=1):\n",
    "        self.x += x_move\n",
    "        self.y += y_move   \n",
    "    def distance(self, other_rocket):\n",
    "        dist = sqrt((self.x-other_rocket.x)**2 + (self.y-other_rocket.y)**2)\n",
    "        return round(int(dist))\n",
    "    def launch(self):\n",
    "        return f'captain {self.cap} starts launching of rocket {self.name}'\n",
    "    def landing(self):\n",
    "        print(f'before: rocket x: {self.x}, y: {self.y}')\n",
    "        self.x = 0\n",
    "        self.y = 0\n",
    "        print(f'after: rocket x: {self.x}, y: {self.y}')\n",
    "        \n",
    "    def secure_check(self, other_rocket):\n",
    "        if self.distance(other_rocket) == 0:\n",
    "            return f'Rockets crashed!!'\n",
    "        elif self.distance(other_rocket) < 2:\n",
    "            return f'Alarm! Too close'\n",
    "        else:\n",
    "            return f'All good!'\n",
    "    "
   ]
  },
  {
   "cell_type": "code",
   "execution_count": 43,
   "metadata": {},
   "outputs": [
    {
     "data": {
      "text/plain": [
       "'black'"
      ]
     },
     "execution_count": 43,
     "metadata": {},
     "output_type": "execute_result"
    }
   ],
   "source": [
    "# create 5 rockets\n",
    "rnames = [['01', 'john'], ['02','op'], ['03','black'], ['04','jack'], ['05','smith']]\n",
    "rocks = [Rocket(el[0],el[1]) for el in rnames]\n",
    "rocks[2].cap"
   ]
  },
  {
   "cell_type": "code",
   "execution_count": 44,
   "metadata": {},
   "outputs": [],
   "source": [
    "# move each rocket randomly\n",
    "from random import randint\n",
    "for x in range(len(rocks)):\n",
    "    horiz = randint(-50, 50)\n",
    "    vert = randint(1,100)\n",
    "    rocks[x].moving(horiz, vert)"
   ]
  },
  {
   "cell_type": "code",
   "execution_count": 52,
   "metadata": {},
   "outputs": [
    {
     "data": {
      "text/plain": [
       "50"
      ]
     },
     "execution_count": 52,
     "metadata": {},
     "output_type": "execute_result"
    }
   ],
   "source": [
    "rocks[4].distance(rocks[1])"
   ]
  },
  {
   "cell_type": "code",
   "execution_count": 53,
   "metadata": {},
   "outputs": [
    {
     "name": "stdout",
     "output_type": "stream",
     "text": [
      "captain op starts launching of rocket 02\n",
      "before: rocket x: -15, y: 60\n",
      "after: rocket x: 0, y: 0\n"
     ]
    },
    {
     "data": {
      "text/plain": [
       "'All good!'"
      ]
     },
     "execution_count": 53,
     "metadata": {},
     "output_type": "execute_result"
    }
   ],
   "source": [
    "print(rocks[1].launch())\n",
    "rocks[4].landing()\n",
    "rocks[0].secure_check(rocks[1])"
   ]
  },
  {
   "cell_type": "code",
   "execution_count": 77,
   "metadata": {},
   "outputs": [],
   "source": [
    "class Shuttle(Rocket):\n",
    "    '''Define a Shuttle object with parent class - Rocket'''\n",
    "    def __init__(self, name, cap, x=0, y=0, flights = 0):\n",
    "        super().__init__(name, cap, x,y)\n",
    "        self.flights = flights"
   ]
  },
  {
   "cell_type": "code",
   "execution_count": 78,
   "metadata": {},
   "outputs": [
    {
     "data": {
      "text/plain": [
       "'joe'"
      ]
     },
     "execution_count": 78,
     "metadata": {},
     "output_type": "execute_result"
    }
   ],
   "source": [
    "shutt = Shuttle('first', 'joe', flights=3)\n",
    "shutt.cap"
   ]
  },
  {
   "cell_type": "code",
   "execution_count": 63,
   "metadata": {},
   "outputs": [],
   "source": [
    "# create 5 shuttles based on rockets\n",
    "shuttles = [Shuttle(el[0], el[1], 0,0, randint(0,10)) for el in rnames]"
   ]
  },
  {
   "cell_type": "code",
   "execution_count": 73,
   "metadata": {},
   "outputs": [
    {
     "name": "stdout",
     "output_type": "stream",
     "text": [
      "8\n",
      "23\n",
      "5\n",
      "-37\n",
      "4\n",
      "49\n",
      "4\n",
      "-4\n",
      "6\n",
      "-21\n"
     ]
    }
   ],
   "source": [
    "for sh in shuttles:\n",
    "    x = randint(-50,50)\n",
    "    y = randint(0,100)\n",
    "    sh.moving(x,y)\n",
    "    print(sh.flights)\n",
    "    print(sh.x)"
   ]
  },
  {
   "cell_type": "code",
   "execution_count": 76,
   "metadata": {},
   "outputs": [
    {
     "name": "stdout",
     "output_type": "stream",
     "text": [
      "distance between 01 and john is 49\n",
      "distance between 01 and op is 22\n",
      "distance between 01 and black is 49\n",
      "distance between 01 and jack is 77\n",
      "distance between 01 and smith is 23\n",
      "distance between 02 and john is 25\n",
      "distance between 02 and op is 56\n",
      "distance between 02 and black is 74\n",
      "distance between 02 and jack is 70\n",
      "distance between 02 and smith is 48\n",
      "distance between 03 and john is 75\n",
      "distance between 03 and op is 36\n",
      "distance between 03 and black is 47\n",
      "distance between 03 and jack is 81\n",
      "distance between 03 and smith is 49\n",
      "distance between 04 and john is 43\n",
      "distance between 04 and op is 33\n",
      "distance between 04 and black is 40\n",
      "distance between 04 and jack is 36\n",
      "distance between 04 and smith is 47\n",
      "distance between 05 and john is 7\n",
      "distance between 05 and op is 40\n",
      "distance between 05 and black is 66\n",
      "distance between 05 and jack is 73\n",
      "distance between 05 and smith is 25\n"
     ]
    }
   ],
   "source": [
    "for sh in shuttles:\n",
    "    for rock in rocks:\n",
    "        print(f'distance between {sh.name} and {rock.cap} is {sh.distance(rock)}')"
   ]
  },
  {
   "cell_type": "code",
   "execution_count": 35,
   "metadata": {},
   "outputs": [],
   "source": []
  },
  {
   "cell_type": "code",
   "execution_count": null,
   "metadata": {},
   "outputs": [],
   "source": []
  },
  {
   "cell_type": "code",
   "execution_count": null,
   "metadata": {},
   "outputs": [],
   "source": []
  },
  {
   "cell_type": "code",
   "execution_count": 80,
   "metadata": {},
   "outputs": [],
   "source": [
    "class Person():\n",
    "    def __init__(self, name, age, city, lang='none'):\n",
    "        self.name = name\n",
    "        self.age = age\n",
    "        self.city = city\n",
    "        self.lang = lang\n",
    "    \n",
    "    def greeting(self):\n",
    "        return f'my name is {self.name}, I\"m {self.age} y.o., I live in {self.city}'\n",
    "    def moving(self, new_city):\n",
    "        self.city = new_city\n",
    "    def learning(self, new_lang):\n",
    "        self.lang = new_lang\n",
    "        return 'learned new'"
   ]
  },
  {
   "cell_type": "code",
   "execution_count": 81,
   "metadata": {},
   "outputs": [],
   "source": [
    "tom = Person('Tom', 35, 'NY')"
   ]
  },
  {
   "cell_type": "code",
   "execution_count": 82,
   "metadata": {},
   "outputs": [
    {
     "data": {
      "text/plain": [
       "'DC'"
      ]
     },
     "execution_count": 82,
     "metadata": {},
     "output_type": "execute_result"
    }
   ],
   "source": [
    "tom.moving('DC')\n",
    "tom.learning('english')\n",
    "tom.city"
   ]
  },
  {
   "cell_type": "code",
   "execution_count": 104,
   "metadata": {},
   "outputs": [],
   "source": [
    "import datetime\n",
    "class Student(Person):\n",
    "    def __init__(self, name, age, city, school, grad_year, lang='none'):\n",
    "        super().__init__(name, age, city, lang)\n",
    "        self.school = school\n",
    "        self.grad_year = grad_year\n",
    "        \n",
    "    def years_to_grad(self):\n",
    "        return self.grad_year - datetime.datetime.now().year"
   ]
  },
  {
   "cell_type": "code",
   "execution_count": 103,
   "metadata": {},
   "outputs": [],
   "source": [
    "pers = [['mac', 28, 'DC'], ['el', 30, 'NY'], ['Bee', 33, 'SF'], ['A', 25, 'LA'], ['Jis', 40, 'Or']]\n",
    "studs = [['GW', 2019], ['URFU', 2020], ['SomeSchool', 2025], ['LMN', 2018], ['ABO', 2020]]\n",
    "langs = ['english', 'spanish', 'dutch', 'french', 'italian', 'portugeese', 'latin']"
   ]
  },
  {
   "cell_type": "code",
   "execution_count": 101,
   "metadata": {},
   "outputs": [],
   "source": [
    "students = [Student(pers[x][0], pers[x][1], pers[x][2], studs[x][0], studs[x][1]) for x in range(5)]"
   ]
  },
  {
   "cell_type": "code",
   "execution_count": 106,
   "metadata": {},
   "outputs": [
    {
     "name": "stdout",
     "output_type": "stream",
     "text": [
      "1\n",
      "2\n",
      "7\n",
      "0\n",
      "2\n",
      "english\n",
      "spanish\n",
      "italian\n",
      "portugeese\n",
      "italian\n"
     ]
    }
   ],
   "source": [
    "import random\n",
    "for st in students:\n",
    "    print(st.years_to_grad())\n",
    "for st in students:\n",
    "    st.learning(random.choice(langs))\n",
    "    print(st.lang)"
   ]
  },
  {
   "cell_type": "code",
   "execution_count": null,
   "metadata": {},
   "outputs": [],
   "source": []
  },
  {
   "cell_type": "code",
   "execution_count": 61,
   "metadata": {},
   "outputs": [],
   "source": [
    "class Cat():\n",
    "    def __init__(self, name, age):\n",
    "        self.name = name\n",
    "        self.age = age\n",
    "        \n",
    "    def addYear(self):\n",
    "        self.age += 1"
   ]
  },
  {
   "cell_type": "code",
   "execution_count": 62,
   "metadata": {},
   "outputs": [
    {
     "data": {
      "text/plain": [
       "3"
      ]
     },
     "execution_count": 62,
     "metadata": {},
     "output_type": "execute_result"
    }
   ],
   "source": [
    "arch = Cat('archie', 2)\n",
    "arch.addYear()\n",
    "arch.age"
   ]
  },
  {
   "cell_type": "code",
   "execution_count": 64,
   "metadata": {},
   "outputs": [
    {
     "data": {
      "text/plain": [
       "7"
      ]
     },
     "execution_count": 64,
     "metadata": {},
     "output_type": "execute_result"
    }
   ],
   "source": [
    "new_cats = [['tom', '5'], ['bob', 3], ['leo', 7]]\n",
    "cats = [Cat(el[0], el[1]) for el in new_cats]\n",
    "cats[2].age"
   ]
  },
  {
   "cell_type": "code",
   "execution_count": 209,
   "metadata": {},
   "outputs": [],
   "source": [
    "\n",
    "            "
   ]
  },
  {
   "cell_type": "code",
   "execution_count": 210,
   "metadata": {},
   "outputs": [
    {
     "data": {
      "text/plain": [
       "'03'"
      ]
     },
     "execution_count": 210,
     "metadata": {},
     "output_type": "execute_result"
    }
   ],
   "source": []
  }
 ],
 "metadata": {
  "kernelspec": {
   "display_name": "Python [conda env:python37]",
   "language": "python",
   "name": "conda-env-python37-py"
  },
  "language_info": {
   "codemirror_mode": {
    "name": "ipython",
    "version": 3
   },
   "file_extension": ".py",
   "mimetype": "text/x-python",
   "name": "python",
   "nbconvert_exporter": "python",
   "pygments_lexer": "ipython3",
   "version": "3.7.0"
  }
 },
 "nbformat": 4,
 "nbformat_minor": 2
}
