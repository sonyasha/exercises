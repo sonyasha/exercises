{
 "cells": [
  {
   "cell_type": "code",
   "execution_count": 1,
   "metadata": {},
   "outputs": [],
   "source": [
    "import time\n",
    "import memory_profiler as mem_profile"
   ]
  },
  {
   "cell_type": "markdown",
   "metadata": {},
   "source": [
    "### find max hourglass sum in 2D array"
   ]
  },
  {
   "cell_type": "code",
   "execution_count": 1,
   "metadata": {},
   "outputs": [
    {
     "name": "stdout",
     "output_type": "stream",
     "text": [
      "[[1, 4, 3, 6, 2, 9], [9, 4, 7, 0, 1, 4], [0, 0, 0, 0, 0, 0], [5, 0, 1, 4, 2, 8], [4, 3, 6, 0, 0, 8], [5, 2, 1, 8, 5, 0]]\n"
     ]
    }
   ],
   "source": [
    "arr = []\n",
    "for _ in range(6):\n",
    "    arr.append(list(map(int, input().rstrip().split())))\n",
    "print(arr)"
   ]
  },
  {
   "cell_type": "code",
   "execution_count": 1,
   "metadata": {
    "collapsed": true
   },
   "outputs": [],
   "source": [
    "arr = [[1, 4, 3, 6, 2, 9], [9, 4, 7, 0, 1, 4], [0, 0, 0, 0, 0, 0], [5, 0, 1, 4, 2, 8], [4, 3, 6, 0, 0, 8], [5, 2, 1, 8, 5, 0]]\n"
   ]
  },
  {
   "cell_type": "code",
   "execution_count": 2,
   "metadata": {
    "collapsed": true
   },
   "outputs": [],
   "source": [
    "def hourglassSum(arr):\n",
    "    max_sum = -63\n",
    "    for i in range(0, 4):\n",
    "        for j in range(0, 4):\n",
    "            summ = arr[i][j]+arr[i][j+1]+arr[i][j+2]+arr[i+1][j+1]+arr[i+2][j]+arr[i+2][j+1]+arr[i+2][j+2]\n",
    "            if summ > max_sum:\n",
    "                max_sum = summ\n",
    "    return max_sum"
   ]
  },
  {
   "cell_type": "code",
   "execution_count": 3,
   "metadata": {},
   "outputs": [
    {
     "data": {
      "text/plain": [
       "27"
      ]
     },
     "execution_count": 3,
     "metadata": {},
     "output_type": "execute_result"
    }
   ],
   "source": [
    "hourglassSum(arr)"
   ]
  },
  {
   "cell_type": "markdown",
   "metadata": {},
   "source": [
    "### perform d left rotations and return new array"
   ]
  },
  {
   "cell_type": "code",
   "execution_count": 5,
   "metadata": {
    "collapsed": true
   },
   "outputs": [],
   "source": [
    "d = 10\n",
    "a = list(map(int, input().rstrip().split()))"
   ]
  },
  {
   "cell_type": "code",
   "execution_count": 4,
   "metadata": {
    "collapsed": true
   },
   "outputs": [],
   "source": [
    "d = 7\n",
    "a = [45, 76, 111, 0, 8, 40, 8, 122, 62, 98, 5, 2, 90, 25, 66, 303, 41, 8, 1, 4, 0, 8, 34, 27, 0, 1]"
   ]
  },
  {
   "cell_type": "code",
   "execution_count": 5,
   "metadata": {
    "collapsed": true
   },
   "outputs": [],
   "source": [
    "# if you don't know how to use modulus\n",
    "def rotLeft(a, d):\n",
    "    new_arr = list()\n",
    "    for ind in range(d, len(a)):\n",
    "        new_arr.append(a[ind])\n",
    "    for ind in range(0, d):\n",
    "        new_arr.append(a[ind])\n",
    "    return  ' '.join(str(el) for el in new_arr)"
   ]
  },
  {
   "cell_type": "code",
   "execution_count": 6,
   "metadata": {},
   "outputs": [
    {
     "data": {
      "text/plain": [
       "'122 62 98 5 2 90 25 66 303 41 8 1 4 0 8 34 27 0 1 45 76 111 0 8 40 8'"
      ]
     },
     "execution_count": 6,
     "metadata": {},
     "output_type": "execute_result"
    }
   ],
   "source": [
    "rotLeft(a, d)"
   ]
  },
  {
   "cell_type": "code",
   "execution_count": 7,
   "metadata": {
    "collapsed": true
   },
   "outputs": [],
   "source": [
    "def rotLeftMod(a, d):\n",
    "    new_arr = list()\n",
    "    for ind in range(len(a)):\n",
    "        new_ind = (ind + d) % len(a)\n",
    "        new_arr.append(a[new_ind])\n",
    "    return  ' '.join(str(el) for el in new_arr)"
   ]
  },
  {
   "cell_type": "code",
   "execution_count": 8,
   "metadata": {},
   "outputs": [
    {
     "data": {
      "text/plain": [
       "'122 62 98 5 2 90 25 66 303 41 8 1 4 0 8 34 27 0 1 45 76 111 0 8 40 8'"
      ]
     },
     "execution_count": 8,
     "metadata": {},
     "output_type": "execute_result"
    }
   ],
   "source": [
    "rotLeftMod(a, d)"
   ]
  },
  {
   "cell_type": "markdown",
   "metadata": {},
   "source": [
    "### minimum bribes"
   ]
  },
  {
   "cell_type": "code",
   "execution_count": 17,
   "metadata": {
    "collapsed": true
   },
   "outputs": [],
   "source": [
    "q = [1, 2, 5, 3, 4, 7, 8, 6]"
   ]
  },
  {
   "cell_type": "code",
   "execution_count": 10,
   "metadata": {
    "collapsed": true
   },
   "outputs": [],
   "source": [
    "exmp = list(range(len(q)))"
   ]
  },
  {
   "cell_type": "code",
   "execution_count": 11,
   "metadata": {
    "collapsed": true
   },
   "outputs": [],
   "source": [
    "for ind, value in enumerate(q):\n",
    "    if value - (ind + 1) > 2:\n",
    "        print('not good')"
   ]
  },
  {
   "cell_type": "code",
   "execution_count": 18,
   "metadata": {
    "collapsed": true
   },
   "outputs": [],
   "source": [
    "count = 0\n",
    "def rotate(q):\n",
    "    for ind, value in enumerate(q):\n",
    "        if ind < (len(q)-1):\n",
    "            if value > q[ind + 1]:\n",
    "                global count\n",
    "                count += 1\n",
    "                print(value)\n",
    "                q[ind], q[ind+1] = q[ind+1], value\n",
    "    return q"
   ]
  },
  {
   "cell_type": "code",
   "execution_count": 19,
   "metadata": {
    "collapsed": true
   },
   "outputs": [],
   "source": [
    "def minimumBribes(q):\n",
    "    \n",
    "    for ind, value in enumerate(q):\n",
    "        if value - (ind + 1) > 2:\n",
    "            return print('Too chaotic')\n",
    "        \n",
    "    exmp = list(range(len(q)))\n",
    "    count = 0\n",
    "    \n",
    "    def rotate(q, count):\n",
    "        for ind, value in enumerate(q):\n",
    "            if ind < (len(q)-1):\n",
    "                if value > q[ind + 1]:\n",
    "                    count += 1\n",
    "                    q[ind], q[ind+1] = q[ind+1], value\n",
    "        return q, count\n",
    "    \n",
    "    for el in range(len(q)):\n",
    "        if q != exmp:\n",
    "            q, count = rotate(q, count)\n",
    "            \n",
    "    return print(count)"
   ]
  },
  {
   "cell_type": "code",
   "execution_count": 20,
   "metadata": {},
   "outputs": [
    {
     "name": "stdout",
     "output_type": "stream",
     "text": [
      "4\n"
     ]
    }
   ],
   "source": [
    "minimumBribes(q)"
   ]
  },
  {
   "cell_type": "code",
   "execution_count": 21,
   "metadata": {
    "collapsed": true
   },
   "outputs": [],
   "source": [
    "def minimumBribes(q):\n",
    "    \n",
    "    count = 0\n",
    "    change = False\n",
    "    \n",
    "    for ind, value in enumerate(q):\n",
    "        if value - (ind + 1) > 2:\n",
    "            return print('Too chaotic')\n",
    "    \n",
    "    for el in range(len(q)):\n",
    "        for j in range(len(q)-1):\n",
    "            if q[j] > q[j + 1]: \n",
    "                count += 1\n",
    "                q[j], q[j+1] = q[j+1], q[j]\n",
    "                change = True\n",
    "                \n",
    "        if change:\n",
    "            change = False\n",
    "        else:\n",
    "            return print(count)\n",
    "            \n",
    "    return print(count)"
   ]
  },
  {
   "cell_type": "code",
   "execution_count": 22,
   "metadata": {
    "collapsed": true
   },
   "outputs": [],
   "source": [
    "q = [1, 2, 5, 3, 4, 7, 8, 6]"
   ]
  },
  {
   "cell_type": "code",
   "execution_count": 23,
   "metadata": {},
   "outputs": [
    {
     "name": "stdout",
     "output_type": "stream",
     "text": [
      "4\n"
     ]
    }
   ],
   "source": [
    "minimumBribes(q)"
   ]
  },
  {
   "cell_type": "markdown",
   "metadata": {},
   "source": [
    "### sort an array"
   ]
  },
  {
   "cell_type": "code",
   "execution_count": 29,
   "metadata": {
    "collapsed": true
   },
   "outputs": [],
   "source": [
    "arr = [4, 3, 1, 2]"
   ]
  },
  {
   "cell_type": "code",
   "execution_count": 25,
   "metadata": {},
   "outputs": [
    {
     "data": {
      "text/plain": [
       "[1, 2, 3, 4]"
      ]
     },
     "execution_count": 25,
     "metadata": {},
     "output_type": "execute_result"
    }
   ],
   "source": [
    "sorted(arr)"
   ]
  },
  {
   "cell_type": "code",
   "execution_count": 26,
   "metadata": {},
   "outputs": [
    {
     "name": "stdout",
     "output_type": "stream",
     "text": [
      "to move: 4\n",
      "1\n",
      "[3, 4, 1, 2]\n",
      "to move: 4\n",
      "2\n",
      "[3, 1, 4, 2]\n",
      "to move: 4\n",
      "3\n",
      "[3, 1, 2, 4]\n",
      "to move: 3\n",
      "1\n",
      "[1, 3, 2, 4]\n",
      "to move: 3\n",
      "2\n",
      "[1, 2, 3, 4]\n"
     ]
    }
   ],
   "source": [
    "count = 0\n",
    "for x in range(len(arr)):\n",
    "    for ind in range(len(arr)-1):\n",
    "        if arr[ind] > (ind + 1):\n",
    "            print(f'to move: {arr[ind]}')\n",
    "            for v in range(ind+1, len(arr)):\n",
    "                if arr[v] != (v+1):\n",
    "                    print(v)\n",
    "                    arr[ind], arr[v] = arr[v], arr[ind]\n",
    "                    count += 1\n",
    "                    print(arr)\n",
    "                    break\n"
   ]
  },
  {
   "cell_type": "code",
   "execution_count": 27,
   "metadata": {},
   "outputs": [
    {
     "data": {
      "text/plain": [
       "5"
      ]
     },
     "execution_count": 27,
     "metadata": {},
     "output_type": "execute_result"
    }
   ],
   "source": [
    "count"
   ]
  },
  {
   "cell_type": "code",
   "execution_count": 30,
   "metadata": {},
   "outputs": [
    {
     "name": "stdout",
     "output_type": "stream",
     "text": [
      "0\n",
      "[2, 3, 1, 4]\n",
      "1\n",
      "[3, 2, 1, 4]\n",
      "2\n",
      "[1, 2, 3, 4]\n",
      "3\n",
      "count: 3\n"
     ]
    }
   ],
   "source": [
    "count = 0\n",
    "change = False\n",
    "for x in range(len(arr)):\n",
    "    print(x)\n",
    "    for ind in range(len(arr)-1):\n",
    "        if arr[ind] != (ind + 1):\n",
    "            arr[arr[ind]-1], arr[ind] = arr[ind], arr[arr[ind]-1]\n",
    "            count += 1\n",
    "            change = True\n",
    "            print(arr)\n",
    "            break\n",
    "    if change:\n",
    "        change = False\n",
    "    else:\n",
    "        print(f'count: {count}')\n"
   ]
  },
  {
   "cell_type": "code",
   "execution_count": 31,
   "metadata": {
    "collapsed": true
   },
   "outputs": [],
   "source": [
    "arr = [4, 3, 1, 2]"
   ]
  },
  {
   "cell_type": "code",
   "execution_count": 32,
   "metadata": {},
   "outputs": [
    {
     "name": "stdout",
     "output_type": "stream",
     "text": [
      "4\n",
      "2\n",
      "3\n",
      "3\n",
      "4\n",
      "3\n",
      "count: 3\n"
     ]
    }
   ],
   "source": [
    "corr = sorted(arr)\n",
    "count = 0\n",
    "hash_table = {v: i for i,v in enumerate(arr)}\n",
    "for ind, val in enumerate(arr):\n",
    "    if val != corr[ind]:\n",
    "        print(val)\n",
    "        to_change = hash_table[corr[ind]]\n",
    "        print(to_change)\n",
    "        arr[to_change], arr[ind] = arr[ind], arr[to_change]\n",
    "        hash_table[val] = to_change\n",
    "        hash_table[corr[ind]] = ind\n",
    "        count += 1\n",
    "print(f'count: {count}')"
   ]
  },
  {
   "cell_type": "markdown",
   "metadata": {},
   "source": [
    "### changing a list"
   ]
  },
  {
   "cell_type": "code",
   "execution_count": 33,
   "metadata": {},
   "outputs": [
    {
     "data": {
      "text/plain": [
       "[0, 0, 0, 0, 0, 0, 0, 0, 0, 0]"
      ]
     },
     "execution_count": 33,
     "metadata": {},
     "output_type": "execute_result"
    }
   ],
   "source": [
    "queries = [[1,2,100], [2,5,100], [3,4,100]]\n",
    "n = 10\n",
    "arr = [0] * (n)\n",
    "arr"
   ]
  },
  {
   "cell_type": "code",
   "execution_count": 34,
   "metadata": {},
   "outputs": [
    {
     "name": "stdout",
     "output_type": "stream",
     "text": [
      "[100, 100, 0, 0, 0, 0, 0, 0, 0, 0]\n",
      "[100, 200, 100, 100, 100, 0, 0, 0, 0, 0]\n",
      "[100, 200, 200, 200, 100, 0, 0, 0, 0, 0]\n",
      "200\n"
     ]
    }
   ],
   "source": [
    "for q in queries:    \n",
    "    for x in range(q[0]-1, q[1]):\n",
    "        arr[x] = arr[x] + q[2]\n",
    "    print(arr)\n",
    "print(max(arr))    "
   ]
  },
  {
   "cell_type": "code",
   "execution_count": 35,
   "metadata": {
    "collapsed": true
   },
   "outputs": [],
   "source": [
    "queries = [[1,2,100], [2,5,100], [3,4,100]]\n",
    "n = 10\n",
    "arr = [0] * (n+1)"
   ]
  },
  {
   "cell_type": "code",
   "execution_count": 36,
   "metadata": {},
   "outputs": [
    {
     "name": "stdout",
     "output_type": "stream",
     "text": [
      "[100, 0, -100, 0, 0, 0, 0, 0, 0, 0, 0]\n",
      "q0: 1\n",
      "max: 0, q0: 0\n",
      "100\n",
      "[100, 100, -100, 0, 0, -100, 0, 0, 0, 0, 0]\n",
      "q0: 2\n",
      "max: 0, q0: 0\n",
      "200\n",
      "[100, 100, 0, 0, -100, -100, 0, 0, 0, 0, 0]\n",
      "q0: 3\n",
      "max: 0, q0: 0\n",
      "200\n"
     ]
    }
   ],
   "source": [
    "for q in queries:\n",
    "    arr[q[0]-1] += q[2]\n",
    "    if((q[1]) <= len(arr)):\n",
    "        arr[q[1]] -= q[2]\n",
    "    print(arr)\n",
    "    print(f'q0: {q[0]}')\n",
    "    maximum = q[0] = 0\n",
    "    print(f'max: {maximum}, q0: {q[0]}')\n",
    "    for i in arr:\n",
    "        q[0] = q[0] + i\n",
    "        if(maximum < q[0]):\n",
    "            maximum = q[0]\n",
    "    print(maximum)\n",
    "    "
   ]
  },
  {
   "cell_type": "code",
   "execution_count": 40,
   "metadata": {
    "collapsed": true
   },
   "outputs": [],
   "source": [
    "from itertools import accumulate\n",
    "from functools import reduce\n",
    "queries = [[1,2,100], [2,5,100], [3,4,100]]\n",
    "n = 10\n",
    "arr = [0] * (n+1)"
   ]
  },
  {
   "cell_type": "code",
   "execution_count": 38,
   "metadata": {},
   "outputs": [
    {
     "name": "stdout",
     "output_type": "stream",
     "text": [
      "[100, 200, 0, 0, -100, -100, 0, 0, 0, 0, 0]\n",
      "[100, 200, 200, 0, -100, -100, 0, 0, 0, 0, 0]\n",
      "[100, 200, 200, 200, -100, -100, 0, 0, 0, 0, 0]\n",
      "[100, 200, 200, 200, 100, -100, 0, 0, 0, 0, 0]\n",
      "[100, 200, 200, 200, 100, 0, 0, 0, 0, 0, 0]\n",
      "[100, 200, 200, 200, 100, 0, 0, 0, 0, 0, 0]\n",
      "[100, 200, 200, 200, 100, 0, 0, 0, 0, 0, 0]\n",
      "[100, 200, 200, 200, 100, 0, 0, 0, 0, 0, 0]\n",
      "[100, 200, 200, 200, 100, 0, 0, 0, 0, 0, 0]\n",
      "[100, 200, 200, 200, 100, 0, 0, 0, 0, 0, 0]\n"
     ]
    },
    {
     "data": {
      "text/plain": [
       "200"
      ]
     },
     "execution_count": 38,
     "metadata": {},
     "output_type": "execute_result"
    }
   ],
   "source": [
    "for q in queries:\n",
    "    arr[q[0] - 1] += q[2]\n",
    "    arr[q[1]] -= q[2]\n",
    "for i in range(1, len(arr)):\n",
    "    arr[i] += arr[i-1]\n",
    "#     print(arr)\n",
    "max(arr)"
   ]
  },
  {
   "cell_type": "code",
   "execution_count": 41,
   "metadata": {},
   "outputs": [
    {
     "data": {
      "text/plain": [
       "200"
      ]
     },
     "execution_count": 41,
     "metadata": {},
     "output_type": "execute_result"
    }
   ],
   "source": [
    "for q in queries:\n",
    "    arr[q[0] - 1] += q[2]\n",
    "    arr[q[1]] -= q[2]\n",
    "    \n",
    "max(accumulate(arr))  "
   ]
  },
  {
   "cell_type": "markdown",
   "metadata": {},
   "source": [
    "### sorting an array"
   ]
  },
  {
   "cell_type": "code",
   "execution_count": 68,
   "metadata": {
    "collapsed": true
   },
   "outputs": [],
   "source": [
    "arr = [6, 2, 8, 1, 0, 3, 7, 11, 500, 4, 1054]\n",
    "arr_sort = sorted(arr)\n",
    "hash_table = {val: ind for ind, val in enumerate(arr_sort)}"
   ]
  },
  {
   "cell_type": "code",
   "execution_count": 69,
   "metadata": {},
   "outputs": [
    {
     "name": "stdout",
     "output_type": "stream",
     "text": [
      "to change\n",
      "[3, 2, 8, 1, 0, 6, 7, 11, 500, 4, 1054]\n",
      "to change\n",
      "[1, 2, 8, 3, 0, 6, 7, 11, 500, 4, 1054]\n",
      "to change\n",
      "[2, 1, 8, 3, 0, 6, 7, 11, 500, 4, 1054]\n",
      "to change\n",
      "[8, 1, 2, 3, 0, 6, 7, 11, 500, 4, 1054]\n",
      "to change\n",
      "[11, 1, 2, 3, 0, 6, 7, 8, 500, 4, 1054]\n",
      "to change\n",
      "[500, 1, 2, 3, 0, 6, 7, 8, 11, 4, 1054]\n",
      "to change\n",
      "[4, 1, 2, 3, 0, 6, 7, 8, 11, 500, 1054]\n",
      "to change\n",
      "[0, 1, 2, 3, 4, 6, 7, 8, 11, 500, 1054]\n",
      "Array is sorted in 8 swaps.\n",
      "First Element: 0\n",
      "Last Element: 1054\n"
     ]
    }
   ],
   "source": [
    "#fast version\n",
    "count = 0\n",
    "for el in range(len(arr)):\n",
    "    for ind in range(len(arr)-1):\n",
    "        if arr[ind] != arr_sort[ind]:\n",
    "            print('to change')\n",
    "            arr[hash_table[arr[ind]]], arr[ind] = arr[ind], arr[hash_table[arr[ind]]]\n",
    "            count += 1\n",
    "            print(arr)\n",
    "            break\n",
    "print('Array is sorted in {} swaps.'.format(count))\n",
    "print(f'First Element: {arr[0]}')\n",
    "print(f'Last Element: {arr[-1]}')"
   ]
  },
  {
   "cell_type": "code",
   "execution_count": 74,
   "metadata": {},
   "outputs": [
    {
     "name": "stdout",
     "output_type": "stream",
     "text": [
      "Array is sorted in 5 swaps.\n",
      "First Element: 1\n",
      "Last Element: 4\n"
     ]
    }
   ],
   "source": [
    "# slow version\n",
    "arr = [4, 2, 3, 1]\n",
    "count = 0\n",
    "for el in range(len(arr)):\n",
    "    for ind in range(len(arr)-1):\n",
    "        if arr[ind] > arr[ind+1]:\n",
    "            arr[ind+1], arr[ind] = arr[ind], arr[ind+1]\n",
    "            count += 1\n",
    "\n",
    "print('Array is sorted in {} swaps.'.format(count))\n",
    "print('First Element: {}'.format(arr[0]))\n",
    "print('Last Element: {}'.format(arr[-1]))"
   ]
  },
  {
   "cell_type": "markdown",
   "metadata": {},
   "source": [
    "### maximum items"
   ]
  },
  {
   "cell_type": "code",
   "execution_count": 81,
   "metadata": {
    "collapsed": true
   },
   "outputs": [],
   "source": [
    "prices = [6, 2, 8, 1, 0, 3, 7, 11, 500, 4, 1054]\n",
    "k = 25"
   ]
  },
  {
   "cell_type": "code",
   "execution_count": 82,
   "metadata": {
    "collapsed": true
   },
   "outputs": [],
   "source": [
    "sort_prices = sorted(prices)"
   ]
  },
  {
   "cell_type": "code",
   "execution_count": 83,
   "metadata": {},
   "outputs": [
    {
     "name": "stdout",
     "output_type": "stream",
     "text": [
      "23\n",
      "7\n"
     ]
    }
   ],
   "source": [
    "summ = 0\n",
    "count = 0\n",
    "for ind in range(len(prices)):\n",
    "    if (summ + sort_prices[ind])  < k:\n",
    "        summ += sort_prices[ind]\n",
    "        count += 1\n",
    "    else:\n",
    "        print(summ)\n",
    "        print(count)\n",
    "        break\n"
   ]
  },
  {
   "cell_type": "markdown",
   "metadata": {},
   "source": [
    "### fibonnachi"
   ]
  },
  {
   "cell_type": "code",
   "execution_count": 84,
   "metadata": {},
   "outputs": [
    {
     "name": "stdout",
     "output_type": "stream",
     "text": [
      "0\n",
      "1\n",
      "1\n",
      "2\n",
      "3\n",
      "5\n",
      "8\n",
      "13\n",
      "21\n",
      "34\n"
     ]
    }
   ],
   "source": [
    "a,b = 0,1\n",
    "for i in range(0,10):\n",
    "    print(a)\n",
    "    a,b = b, (a+b)"
   ]
  },
  {
   "cell_type": "code",
   "execution_count": 90,
   "metadata": {},
   "outputs": [
    {
     "data": {
      "text/plain": [
       "[0, 1, 1, 2, 3, 5, 8, 13, 21, 34]"
      ]
     },
     "execution_count": 90,
     "metadata": {},
     "output_type": "execute_result"
    }
   ],
   "source": [
    "def fib(n):\n",
    "    arr = [0,1]\n",
    "    for i in range(n-2):\n",
    "        arr.append((arr[i] + arr[i+1]))\n",
    "    return arr\n",
    "fib(10)   "
   ]
  },
  {
   "cell_type": "code",
   "execution_count": 131,
   "metadata": {
    "collapsed": true
   },
   "outputs": [],
   "source": [
    "def fib_gen(n):\n",
    "    a,b = 0,1\n",
    "    for i in range(n):\n",
    "        if i < 2:\n",
    "            yield i\n",
    "        else:\n",
    "            yield (a+b)\n",
    "            a,b = b, a+b"
   ]
  },
  {
   "cell_type": "code",
   "execution_count": 134,
   "metadata": {
    "collapsed": true
   },
   "outputs": [],
   "source": [
    "f = fib_gen(10)"
   ]
  },
  {
   "cell_type": "code",
   "execution_count": 135,
   "metadata": {},
   "outputs": [
    {
     "name": "stdout",
     "output_type": "stream",
     "text": [
      "0\n",
      "1\n",
      "1\n",
      "2\n",
      "3\n",
      "5\n",
      "8\n",
      "13\n",
      "21\n",
      "34\n"
     ]
    }
   ],
   "source": [
    "for el in f:\n",
    "    print(el)"
   ]
  },
  {
   "cell_type": "markdown",
   "metadata": {},
   "source": [
    "### zip and hash"
   ]
  },
  {
   "cell_type": "code",
   "execution_count": 100,
   "metadata": {
    "collapsed": true
   },
   "outputs": [],
   "source": [
    "keys = ['a', 'b', 'c']\n",
    "values = [1, 2, 3]"
   ]
  },
  {
   "cell_type": "code",
   "execution_count": 101,
   "metadata": {
    "collapsed": true
   },
   "outputs": [],
   "source": [
    "z = zip(keys, values)"
   ]
  },
  {
   "cell_type": "code",
   "execution_count": 102,
   "metadata": {
    "collapsed": true
   },
   "outputs": [],
   "source": [
    "new_hash = {v:k for k,v in z}"
   ]
  },
  {
   "cell_type": "code",
   "execution_count": 103,
   "metadata": {},
   "outputs": [
    {
     "data": {
      "text/plain": [
       "{1: 'a', 2: 'b', 3: 'c'}"
      ]
     },
     "execution_count": 103,
     "metadata": {},
     "output_type": "execute_result"
    }
   ],
   "source": [
    "new_hash"
   ]
  },
  {
   "cell_type": "code",
   "execution_count": 106,
   "metadata": {},
   "outputs": [
    {
     "name": "stdout",
     "output_type": "stream",
     "text": [
      "a\n",
      "b\n",
      "c\n"
     ]
    }
   ],
   "source": [
    "for k in new_hash:\n",
    "    print(new_hash[k])"
   ]
  },
  {
   "cell_type": "markdown",
   "metadata": {},
   "source": [
    "### compreh"
   ]
  },
  {
   "cell_type": "code",
   "execution_count": 115,
   "metadata": {},
   "outputs": [
    {
     "data": {
      "text/plain": [
       "[1, 4, 9, 16, 25, 36, 49, 64, 81, 100]"
      ]
     },
     "execution_count": 115,
     "metadata": {},
     "output_type": "execute_result"
    }
   ],
   "source": [
    "l = list(range(1,11))\n",
    "l_two = [el*el for el in l]\n",
    "l_two"
   ]
  },
  {
   "cell_type": "markdown",
   "metadata": {},
   "source": [
    "### gener"
   ]
  },
  {
   "cell_type": "code",
   "execution_count": 175,
   "metadata": {
    "collapsed": true
   },
   "outputs": [],
   "source": [
    "def some_func(arr):\n",
    "    for i in arr:\n",
    "        yield (i+i+2)"
   ]
  },
  {
   "cell_type": "code",
   "execution_count": 176,
   "metadata": {
    "collapsed": true
   },
   "outputs": [],
   "source": [
    "arr = list(range(0,10))\n",
    "new_arr = some_func(arr)"
   ]
  },
  {
   "cell_type": "code",
   "execution_count": 177,
   "metadata": {},
   "outputs": [
    {
     "data": {
      "text/plain": [
       "20"
      ]
     },
     "execution_count": 177,
     "metadata": {},
     "output_type": "execute_result"
    }
   ],
   "source": [
    "max(new_arr)"
   ]
  },
  {
   "cell_type": "code",
   "execution_count": 178,
   "metadata": {
    "collapsed": true
   },
   "outputs": [],
   "source": [
    "for i in new_arr:\n",
    "    print(i)"
   ]
  },
  {
   "cell_type": "markdown",
   "metadata": {},
   "source": [
    "### overspending"
   ]
  },
  {
   "cell_type": "code",
   "execution_count": 34,
   "metadata": {},
   "outputs": [],
   "source": [
    "import statistics\n",
    "import random\n",
    "arr = list(range(0,201))\n",
    "d = 15000\n",
    "random.shuffle(arr)"
   ]
  },
  {
   "cell_type": "code",
   "execution_count": 33,
   "metadata": {},
   "outputs": [],
   "source": [
    "arr = [2, 3, 4, 2, 3, 6, 8, 4, 5]\n",
    "d = 5"
   ]
  },
  {
   "cell_type": "code",
   "execution_count": 291,
   "metadata": {
    "collapsed": true
   },
   "outputs": [],
   "source": [
    "arr = [10, 20, 30, 40, 50]\n",
    "d = 3"
   ]
  },
  {
   "cell_type": "code",
   "execution_count": 202,
   "metadata": {},
   "outputs": [
    {
     "name": "stdout",
     "output_type": "stream",
     "text": [
      "median: 3\n",
      "spending: 6\n",
      "median: 3\n",
      "spending: 8\n",
      "median: 4\n",
      "spending: 4\n",
      "median: 4\n",
      "spending: 5\n"
     ]
    },
    {
     "data": {
      "text/plain": [
       "2"
      ]
     },
     "execution_count": 202,
     "metadata": {},
     "output_type": "execute_result"
    }
   ],
   "source": [
    "count = 0\n",
    "n = d\n",
    "while n < (len(arr)):\n",
    "    median = statistics.median(arr[n-d:n])\n",
    "    print(f'median: {median}')\n",
    "    print(f'spending: {arr[n]}')\n",
    "    if (arr[n]) >= (median*2):\n",
    "        count +=1\n",
    "    n+=1\n",
    "\n",
    "count"
   ]
  },
  {
   "cell_type": "code",
   "execution_count": 16,
   "metadata": {},
   "outputs": [],
   "source": [
    "def expend(arr, d):\n",
    "    import statistics\n",
    "    n = d\n",
    "    while n < len(arr):\n",
    "        if arr[n] >= statistics.median(arr[n-d:n])*2:\n",
    "            yield 1\n",
    "        n+=1"
   ]
  },
  {
   "cell_type": "code",
   "execution_count": 17,
   "metadata": {},
   "outputs": [
    {
     "name": "stdout",
     "output_type": "stream",
     "text": [
      "Memory (Before): [43.44921875]MB\n",
      "sum: 0\n",
      "Took 10.497710317999918 Seconds\n",
      "Memory (After) : [44.5]MB\n"
     ]
    }
   ],
   "source": [
    "# start = time.time()\n",
    "t1 = time.perf_counter()\n",
    "print('Memory (Before): ' + str(mem_profile.memory_usage()) + 'MB' )\n",
    "new_arr = expend(arr,d)\n",
    "print(f'sum: {sum(new_arr)}')\n",
    "# end = time.time()\n",
    "t2 = time.perf_counter()\n",
    "# print(end - start)\n",
    "print ('Took ' + str(t2-t1) + ' Seconds')\n",
    "print('Memory (After) : ' + str(mem_profile.memory_usage()) + 'MB')"
   ]
  },
  {
   "cell_type": "code",
   "execution_count": 306,
   "metadata": {},
   "outputs": [
    {
     "data": {
      "text/plain": [
       "2"
      ]
     },
     "execution_count": 306,
     "metadata": {},
     "output_type": "execute_result"
    }
   ],
   "source": []
  },
  {
   "cell_type": "code",
   "execution_count": 248,
   "metadata": {},
   "outputs": [
    {
     "data": {
      "text/plain": [
       "[0, 0, 0, 0]"
      ]
     },
     "execution_count": 248,
     "metadata": {},
     "output_type": "execute_result"
    }
   ],
   "source": [
    "arr = [0] * 4\n",
    "arr"
   ]
  },
  {
   "cell_type": "code",
   "execution_count": 18,
   "metadata": {},
   "outputs": [],
   "source": [
    "def find_med(arr, d):\n",
    "    n = d\n",
    "    while n < len(arr):\n",
    "        small_arr = arr[n-d:n]\n",
    "        check = (max(small_arr)+1) * [0]\n",
    "        for a in small_arr:\n",
    "            check[a] += 1\n",
    "        i = 0\n",
    "\n",
    "        for a in range(len(check)):            \n",
    "            for c in range(check[a]):  \n",
    "                small_arr[i] = a\n",
    "                i += 1\n",
    "\n",
    "        if d%2 != 0:\n",
    "            med = small_arr[int(round(d/2,0)-1)]\n",
    "        else:\n",
    "            ind1, ind2 = small_arr[int(round(d/2,0)-1)], small_arr[int(round(d/2,0))]\n",
    "            med = (ind1 + ind2)/2\n",
    "            \n",
    "        if arr[n] >= med*2:\n",
    "            yield 1\n",
    "\n",
    "        n+=1\n",
    "    \n",
    "    \n",
    "    "
   ]
  },
  {
   "cell_type": "code",
   "execution_count": 19,
   "metadata": {},
   "outputs": [
    {
     "name": "stdout",
     "output_type": "stream",
     "text": [
      "Memory (Before): [44.54296875]MB\n",
      "sum: 0\n",
      "Took 40.909696105999956 Seconds\n",
      "Memory (After) : [45.375]MB\n"
     ]
    }
   ],
   "source": [
    "t1 = time.perf_counter()\n",
    "print('Memory (Before): ' + str(mem_profile.memory_usage()) + 'MB' )\n",
    "new_arr = find_med(arr, d)\n",
    "print(f'sum: {sum(new_arr)}')\n",
    "t2 = time.perf_counter()\n",
    "# print(end - start)\n",
    "print ('Took ' + str(t2-t1) + ' Seconds')\n",
    "print('Memory (After) : ' + str(mem_profile.memory_usage()) + 'MB')"
   ]
  },
  {
   "cell_type": "code",
   "execution_count": 297,
   "metadata": {},
   "outputs": [
    {
     "data": {
      "text/plain": [
       "1"
      ]
     },
     "execution_count": 297,
     "metadata": {},
     "output_type": "execute_result"
    }
   ],
   "source": []
  },
  {
   "cell_type": "code",
   "execution_count": 20,
   "metadata": {},
   "outputs": [],
   "source": [
    "def activityNotifications(expenditure, d):\n",
    "    import math\n",
    "    l = len(expenditure)\n",
    "    count = 0\n",
    "    for i in range(0, l-d):\n",
    "        add = 0\n",
    "        \n",
    "        for j in range(i, i+d):\n",
    "            add += expenditure[j]\n",
    "        mid = add/d\n",
    "        \n",
    "        if ((mid-math.floor(mid))>=.5):\n",
    "            mid = math.ceil(mid)\n",
    "        else:\n",
    "            mid = math.floor(mid)\n",
    "        if (expenditure[i+d] >= (2*mid)):\n",
    "            count+= 1\n",
    "    return count"
   ]
  },
  {
   "cell_type": "code",
   "execution_count": 21,
   "metadata": {},
   "outputs": [
    {
     "name": "stdout",
     "output_type": "stream",
     "text": [
      "Memory (Before): [45.375]MB\n",
      "sum: 0\n",
      "Took 7.427267727000071 Seconds\n",
      "Memory (After) : [45.375]MB\n"
     ]
    }
   ],
   "source": [
    "t1 = time.perf_counter()\n",
    "print('Memory (Before): ' + str(mem_profile.memory_usage()) + 'MB' )\n",
    "print(f'sum: {activityNotifications(arr,d)}')\n",
    "t2 = time.perf_counter()\n",
    "# print(end - start)\n",
    "print ('Took ' + str(t2-t1) + ' Seconds')\n",
    "print('Memory (After) : ' + str(mem_profile.memory_usage()) + 'MB')"
   ]
  },
  {
   "cell_type": "code",
   "execution_count": 35,
   "metadata": {},
   "outputs": [],
   "source": [
    "from collections import deque\n",
    "class RunningMedian(object):\n",
    "    \n",
    "    def __init__(self, maxLen):\n",
    "        self.d = [0] * 19996\n",
    "        self.queue = deque()\n",
    "        self.maxLen = maxLen\n",
    "    \n",
    "    def add(self, v: int) -> None:\n",
    "        self.queue.append(v)\n",
    "        self.d[v] += 1\n",
    "        if len(self.queue) > self.maxLen:\n",
    "            val = self.queue.popleft()\n",
    "            self.d[val] -= 1\n",
    "    \n",
    "    def median(self) -> int:\n",
    "        a = int(self.maxLen / 2)\n",
    "        b = a + 1\n",
    "        mid1 = None\n",
    "        mid2 = None\n",
    "        rs = 0\n",
    "        \n",
    "        for idx, v in enumerate(self.d):\n",
    "            rs += v\n",
    "            if rs >= a and mid1 is None:\n",
    "                mid1 = idx\n",
    "            if rs >= b:\n",
    "                mid2 = idx\n",
    "                break\n",
    "        \n",
    "        if self.maxLen % 2 == 0:\n",
    "            return (mid1 + mid2) / 2.0\n",
    "        else:\n",
    "            return mid2\n",
    "        \n",
    "def activityNotifications(expenditure, d):\n",
    "    notifications = 0\n",
    "    r = RunningMedian(d)\n",
    "    for v in expenditure[:d]:\n",
    "        r.add(v)\n",
    "        \n",
    "    for idx, v in enumerate(expenditure[d:]):\n",
    "        median = r.median()\n",
    "        if v >= (2*median):\n",
    "            notifications += 1\n",
    "        r.add(v)\n",
    "    \n",
    "    return notifications"
   ]
  },
  {
   "cell_type": "code",
   "execution_count": 36,
   "metadata": {},
   "outputs": [
    {
     "data": {
      "text/plain": [
       "0"
      ]
     },
     "execution_count": 36,
     "metadata": {},
     "output_type": "execute_result"
    }
   ],
   "source": [
    "activityNotifications(arr,d)"
   ]
  },
  {
   "cell_type": "code",
   "execution_count": null,
   "metadata": {},
   "outputs": [],
   "source": []
  },
  {
   "cell_type": "code",
   "execution_count": 37,
   "metadata": {},
   "outputs": [
    {
     "name": "stdout",
     "output_type": "stream",
     "text": [
      "Memory (Before): [46.13671875]MB\n",
      "sum: 0\n",
      "Took 0.10163957099985055 Seconds\n",
      "Memory (After) : [46.13671875]MB\n"
     ]
    }
   ],
   "source": [
    "t1 = time.perf_counter()\n",
    "print('Memory (Before): ' + str(mem_profile.memory_usage()) + 'MB' )\n",
    "print(f'sum: {activityNotifications(arr,d)}')\n",
    "t2 = time.perf_counter()\n",
    "# print(end - start)\n",
    "print ('Took ' + str(t2-t1) + ' Seconds')\n",
    "print('Memory (After) : ' + str(mem_profile.memory_usage()) + 'MB')"
   ]
  },
  {
   "cell_type": "markdown",
   "metadata": {},
   "source": [
    "### hashtables"
   ]
  },
  {
   "cell_type": "code",
   "execution_count": 80,
   "metadata": {},
   "outputs": [],
   "source": [
    "m = ['I', 'want', 'to', 'deliver', 'some', 'more', 'A', 'a', 'happyness', 'to', 'i', 'the', 'eastern', 'side', 'of']\n",
    "n = ['some', 'To', 'side', 'I', 'want', 'a']"
   ]
  },
  {
   "cell_type": "code",
   "execution_count": 70,
   "metadata": {},
   "outputs": [
    {
     "name": "stdout",
     "output_type": "stream",
     "text": [
      "Memory (Before): [46.17578125]MB\n",
      "Took 0.10324151900022116 Seconds\n",
      "Memory (After) : [46.17578125]MB\n"
     ]
    }
   ],
   "source": [
    "t1 = time.perf_counter()\n",
    "print('Memory (Before): ' + str(mem_profile.memory_usage()) + 'MB' )\n",
    "md = {}\n",
    "for el in m:\n",
    "    if el in md:\n",
    "        md[el] += 1\n",
    "    else:\n",
    "        md[el] = 1\n",
    "t2 = time.perf_counter()\n",
    "print ('Took ' + str(t2-t1) + ' Seconds')\n",
    "print('Memory (After) : ' + str(mem_profile.memory_usage()) + 'MB')"
   ]
  },
  {
   "cell_type": "code",
   "execution_count": 69,
   "metadata": {},
   "outputs": [
    {
     "name": "stdout",
     "output_type": "stream",
     "text": [
      "Memory (Before): [46.17578125]MB\n",
      "Took 0.10136507800052641 Seconds\n",
      "Memory (After) : [46.17578125]MB\n"
     ]
    }
   ],
   "source": [
    "t1 = time.perf_counter()\n",
    "print('Memory (Before): ' + str(mem_profile.memory_usage()) + 'MB' )\n",
    "md = {key: m.count(key) for key in m }\n",
    "t2 = time.perf_counter()\n",
    "print ('Took ' + str(t2-t1) + ' Seconds')\n",
    "print('Memory (After) : ' + str(mem_profile.memory_usage()) + 'MB')"
   ]
  },
  {
   "cell_type": "code",
   "execution_count": 78,
   "metadata": {},
   "outputs": [
    {
     "name": "stdout",
     "output_type": "stream",
     "text": [
      "Memory (Before): [46.18359375]MB\n",
      "Took 0.10312823199819832 Seconds\n",
      "Memory (After) : [46.18359375]MB\n"
     ]
    }
   ],
   "source": [
    "t1 = time.perf_counter()\n",
    "print('Memory (Before): ' + str(mem_profile.memory_usage()) + 'MB' )\n",
    "from collections import Counter\n",
    "md = Counter(m)\n",
    "t2 = time.perf_counter()\n",
    "print ('Took ' + str(t2-t1) + ' Seconds')\n",
    "print('Memory (After) : ' + str(mem_profile.memory_usage()) + 'MB')"
   ]
  },
  {
   "cell_type": "code",
   "execution_count": 81,
   "metadata": {},
   "outputs": [],
   "source": [
    "def checkMagazine(magazine, note):\n",
    "    from collections import Counter\n",
    "    md = Counter(magazine)\n",
    "    for word in note:\n",
    "        if md[word] > 0:\n",
    "            md[word] -= 1\n",
    "        else:\n",
    "            return 'No'\n",
    "\n",
    "    return 'Yes'\n",
    "        "
   ]
  },
  {
   "cell_type": "code",
   "execution_count": 82,
   "metadata": {},
   "outputs": [
    {
     "data": {
      "text/plain": [
       "'No'"
      ]
     },
     "execution_count": 82,
     "metadata": {},
     "output_type": "execute_result"
    }
   ],
   "source": [
    "checkMagazine(m, n)"
   ]
  },
  {
   "cell_type": "markdown",
   "metadata": {},
   "source": [
    "### sets intersection"
   ]
  },
  {
   "cell_type": "code",
   "execution_count": 110,
   "metadata": {},
   "outputs": [],
   "source": [
    "str1 = 'whatsgoingon'\n",
    "str2 = 'duck'"
   ]
  },
  {
   "cell_type": "code",
   "execution_count": 111,
   "metadata": {},
   "outputs": [
    {
     "name": "stdout",
     "output_type": "stream",
     "text": [
      "No\n"
     ]
    }
   ],
   "source": [
    "if len(set(str1) & set(str2)) == 0:\n",
    "    print('No')\n",
    "else:\n",
    "    print('Yes')"
   ]
  },
  {
   "cell_type": "markdown",
   "metadata": {},
   "source": [
    "### anagrams"
   ]
  },
  {
   "cell_type": "code",
   "execution_count": 233,
   "metadata": {},
   "outputs": [],
   "source": [
    "s = ['cdcd']"
   ]
  },
  {
   "cell_type": "code",
   "execution_count": 234,
   "metadata": {},
   "outputs": [
    {
     "data": {
      "text/plain": [
       "['c', 'd', 'c', 'd']"
      ]
     },
     "execution_count": 234,
     "metadata": {},
     "output_type": "execute_result"
    }
   ],
   "source": [
    "from collections import Counter\n",
    "arr = [el for el in s[0]]\n",
    "chk = Counter(arr)\n",
    "arr"
   ]
  },
  {
   "cell_type": "code",
   "execution_count": 181,
   "metadata": {},
   "outputs": [],
   "source": [
    "chk = {v: arr.count(v) for v in arr}"
   ]
  },
  {
   "cell_type": "code",
   "execution_count": 182,
   "metadata": {},
   "outputs": [
    {
     "data": {
      "text/plain": [
       "{'i': 2, 'f': 1, 'a': 1, 'l': 1, 'u': 1, 'h': 1, 'k': 1, 'q': 2}"
      ]
     },
     "execution_count": 182,
     "metadata": {},
     "output_type": "execute_result"
    }
   ],
   "source": [
    "chk"
   ]
  },
  {
   "cell_type": "code",
   "execution_count": 183,
   "metadata": {},
   "outputs": [
    {
     "data": {
      "text/plain": [
       "['i', 'q']"
      ]
     },
     "execution_count": 183,
     "metadata": {},
     "output_type": "execute_result"
    }
   ],
   "source": [
    "doubles = [key for key, val in dict.items(chk) if (val > 1) ]\n",
    "doubles"
   ]
  },
  {
   "cell_type": "code",
   "execution_count": 184,
   "metadata": {},
   "outputs": [
    {
     "data": {
      "text/plain": [
       "{0: 'i',\n",
       " 1: 'f',\n",
       " 2: 'a',\n",
       " 3: 'i',\n",
       " 4: 'l',\n",
       " 5: 'u',\n",
       " 6: 'h',\n",
       " 7: 'k',\n",
       " 8: 'q',\n",
       " 9: 'q'}"
      ]
     },
     "execution_count": 184,
     "metadata": {},
     "output_type": "execute_result"
    }
   ],
   "source": [
    "ht = {i:v for i, v in enumerate(arr)}\n",
    "ht"
   ]
  },
  {
   "cell_type": "code",
   "execution_count": 246,
   "metadata": {},
   "outputs": [],
   "source": [
    "s = ['cdcd']\n",
    "arr = [el for el in s[0]]"
   ]
  },
  {
   "cell_type": "code",
   "execution_count": 262,
   "metadata": {},
   "outputs": [
    {
     "data": {
      "text/plain": [
       "5"
      ]
     },
     "execution_count": 262,
     "metadata": {},
     "output_type": "execute_result"
    }
   ],
   "source": [
    "ht = {}\n",
    "count = 0\n",
    "for i in range(len(arr)):\n",
    "    for j in range(len(arr)-i):\n",
    "        sub = ''.join(sorted(arr[i:i+j+1]))\n",
    "#         print(sub)\n",
    "#         if sub not in ht:\n",
    "        ht[sub] = ht.get(sub, 0) + 1\n",
    "#             ht[sub] = 1\n",
    "#         else:\n",
    "#             ht[sub] += 1\n",
    "#             print(sub)\n",
    "for key in ht:\n",
    "\n",
    "    count += (ht[key] - 1) * ht[key] // 2\n",
    "        \n",
    "count"
   ]
  },
  {
   "cell_type": "code",
   "execution_count": 264,
   "metadata": {},
   "outputs": [
    {
     "data": {
      "text/plain": [
       "{'c': 2, 'cd': 3, 'ccd': 1, 'ccdd': 1, 'd': 2, 'cdd': 1}"
      ]
     },
     "execution_count": 264,
     "metadata": {},
     "output_type": "execute_result"
    }
   ],
   "source": [
    "sum(ht.values())-len(ht)\n",
    "ht"
   ]
  },
  {
   "cell_type": "code",
   "execution_count": 206,
   "metadata": {},
   "outputs": [],
   "source": [
    "doubles = [key for key, val in dict.items(ht) if (val > 1) ]"
   ]
  },
  {
   "cell_type": "code",
   "execution_count": 274,
   "metadata": {},
   "outputs": [
    {
     "data": {
      "text/plain": [
       "list"
      ]
     },
     "execution_count": 274,
     "metadata": {},
     "output_type": "execute_result"
    }
   ],
   "source": [
    "doubles.__class__"
   ]
  },
  {
   "cell_type": "code",
   "execution_count": 275,
   "metadata": {},
   "outputs": [
    {
     "data": {
      "text/plain": [
       "str"
      ]
     },
     "execution_count": 275,
     "metadata": {},
     "output_type": "execute_result"
    }
   ],
   "source": [
    "doubles[0].__class__"
   ]
  },
  {
   "cell_type": "code",
   "execution_count": 1,
   "metadata": {},
   "outputs": [],
   "source": [
    "def sockMerchant(n, ar):\n",
    "\n",
    "    sock_dict = {key: ar.count(key) for key in ar}\n",
    "    count = 0\n",
    "    for sock in sock_dict:\n",
    "        if sock_dict[sock] % 2 == 0:\n",
    "            \n",
    "            count += sock_dict[sock]/2\n",
    "            \n",
    "        else:\n",
    "            count += (sock_dict[sock]-1)/2\n",
    "            \n",
    "    return int(count)"
   ]
  },
  {
   "cell_type": "code",
   "execution_count": 2,
   "metadata": {},
   "outputs": [],
   "source": [
    "def superReducedString(s):\n",
    "\n",
    "    chk = ''\n",
    "    for el in s:\n",
    "        if chk and el == chk[-1]:\n",
    "            chk = chk[:-1]\n",
    "            print(chk)\n",
    "        else:\n",
    "            chk += el\n",
    "\n",
    "    return chk if chk else 'Empty String'"
   ]
  },
  {
   "cell_type": "code",
   "execution_count": 3,
   "metadata": {},
   "outputs": [],
   "source": [
    "def camelcase(s):\n",
    "    return(1+ sum([1 for el in s if el.isupper()]))"
   ]
  },
  {
   "cell_type": "code",
   "execution_count": 4,
   "metadata": {},
   "outputs": [],
   "source": [
    "def minimumNumber(n, password):\n",
    "    # Return the minimum number of characters to make the password strong\n",
    "    chk = {}\n",
    "    special_characters = \"!@#$%^&*()-+\"\n",
    "\n",
    "    for el in password:\n",
    "        if el.islower():\n",
    "            chk['z'] = True\n",
    "        \n",
    "        if el.isupper():\n",
    "            chk['U'] = True\n",
    "     \n",
    "        if el in special_characters:\n",
    "            chk['c'] = True\n",
    "    \n",
    "        if el.isdigit():\n",
    "            chk['d'] = True\n",
    "\n",
    "    print(chk)\n",
    "    if n >= 6:\n",
    "        return 4 - len(chk)\n",
    "    else:\n",
    "        chars = 4 - len(chk)\n",
    "        leng = 6 - n\n",
    "        if chars <= leng:\n",
    "            return leng\n",
    "        else:\n",
    "            return chars\n"
   ]
  },
  {
   "cell_type": "code",
   "execution_count": 5,
   "metadata": {},
   "outputs": [],
   "source": [
    "def alternate(s):\n",
    "    from itertools import combinations\n",
    "    all_chrs = set(s)\n",
    "    length = 0\n",
    "\n",
    "    for pair in combinations(all_chrs,2):\n",
    "        chk = ''\n",
    "        for el in s:\n",
    "            if el in pair:\n",
    "                chk += el\n",
    "\n",
    "        print(chk)\n",
    "        nonrepeat = True\n",
    "        for x in range(1, len(chk)):\n",
    "            if chk[x] == chk[x-1]:\n",
    "                nonrepeat = False\n",
    "                break\n",
    "           \n",
    "        \n",
    "        print(nonrepeat)\n",
    "        if nonrepeat and length < len(chk):\n",
    "            length = len(chk)\n",
    "\n",
    "    return length"
   ]
  },
  {
   "cell_type": "code",
   "execution_count": 6,
   "metadata": {},
   "outputs": [],
   "source": [
    "def marsExploration(s):\n",
    "    count = 0\n",
    "    for ind, el in enumerate(s):\n",
    "        if ((ind%3 == 0) or (ind%3 == 2)) and el != 'S':\n",
    "            count += 1\n",
    "            \n",
    "        if (ind%3 == 1) and el != 'O':\n",
    "            count += 1\n",
    "    return count"
   ]
  },
  {
   "cell_type": "code",
   "execution_count": 7,
   "metadata": {},
   "outputs": [],
   "source": [
    "def hackerrankInString(s):\n",
    "    h = 'hackerrank'\n",
    "    new_h = ''\n",
    "    indx = 0\n",
    "    for el in h:\n",
    "        for l in range(indx, len(s)):\n",
    "            if s[l] == el:\n",
    "                new_h += el\n",
    "                indx = l+1\n",
    "                break\n",
    "    if h == new_h:\n",
    "        return 'YES'\n",
    "    else:\n",
    "        return 'NO'"
   ]
  },
  {
   "cell_type": "code",
   "execution_count": 8,
   "metadata": {},
   "outputs": [],
   "source": [
    "def pangrams(s):\n",
    "    s_set = set( {el.lower() for el in s if el.isalpha()})\n",
    "    return 'pangram' if len(s_set) == 26 else 'not pangram'"
   ]
  },
  {
   "cell_type": "code",
   "execution_count": 9,
   "metadata": {},
   "outputs": [],
   "source": [
    "def weightedUniformStrings(s, queries):\n",
    "    # ht = {chr(el):el-ord('a')+1 for el in list(range(ord('a'), ord('z')+1))}\n",
    "    # d = {el:s.count(el) for el in s}\n",
    "    chklist = set()\n",
    "\n",
    "    # for key, value in d.items():\n",
    "    #     print(key,value)\n",
    "    #     for i in range(value):\n",
    "    #         chklist.append((ord(key) - ord('a') +1) * (i+1))\n",
    "\n",
    "    counter = 0\n",
    "    for el in range(len(s)):\n",
    "        counter += 1\n",
    "        if (el == len(s)-1) or s[el] != s[el+1]:\n",
    "            print(counter)\n",
    "            for i in range(counter):\n",
    "                # print(ord(s[el] - ord('a') + 1)\n",
    "                chklist.add((ord(s[el])-ord('a')+1) * (i+1))\n",
    "            counter = 0\n",
    "\n",
    "    print(chklist)\n",
    "\n",
    "    \n",
    "    return ['Yes' if q in chklist else 'No' for q in queries]"
   ]
  },
  {
   "cell_type": "code",
   "execution_count": 10,
   "metadata": {},
   "outputs": [],
   "source": [
    "def separateNumbers(s):\n",
    "    \n",
    "    for el in range(1, len(s)+1):\n",
    "        c = s[:el]\n",
    "        chk = [c]\n",
    "        if c == s:\n",
    "            print('NO')\n",
    "            break\n",
    "        while int(len(''.join(chk)) < len(s)):\n",
    "            \n",
    "            chk.append(str(int(chk[-1]) + 1))\n",
    "            \n",
    "        if ''.join(chk) == s:\n",
    "            print('YES', chk[0])\n",
    "            break"
   ]
  },
  {
   "cell_type": "code",
   "execution_count": 11,
   "metadata": {},
   "outputs": [],
   "source": [
    "def funnyString(s):\n",
    "    forw = [abs(ord(s[el]) - ord(s[el+1])) for el in range(len(s)-1)]\n",
    "    print(forw)\n",
    "    # back = [abs(ord(s[el]) - ord(s[el+1])) for el in range(len(''.join(reversed(s)))-1)]\n",
    "\n",
    "    back = [abs(ord(s[::-1][el]) - ord(s[::-1][el+1])) for el in range(len(s[::-1])-1)]\n",
    "    print(back)\n",
    "\n",
    "    return 'Funny' if forw == back else 'Not Funny'"
   ]
  },
  {
   "cell_type": "code",
   "execution_count": 12,
   "metadata": {},
   "outputs": [],
   "source": [
    "def gemstones(arr):\n",
    "    \n",
    "    chk = set(arr[0])\n",
    "    for el in range(len(arr)-1):\n",
    "        chk = chk & set(arr[el+1])\n",
    "\n",
    "    return len(chk)"
   ]
  },
  {
   "cell_type": "code",
   "execution_count": 46,
   "metadata": {},
   "outputs": [],
   "source": [
    "s = 'fdhlvosfpafhalll'\n",
    "def anagram(s):\n",
    "    if len(s)%2 != 0:\n",
    "        return -1\n",
    "    l1 = [el for el in s[:int(len(s)/2)]]\n",
    "    l2 = [el for el in s[int(len(s)/2):]]\n",
    "\n",
    "    for el in l1:\n",
    "        if el in l2:\n",
    "            l2.remove(el)\n",
    "    return len(l2)"
   ]
  },
  {
   "cell_type": "code",
   "execution_count": 47,
   "metadata": {},
   "outputs": [
    {
     "data": {
      "text/plain": [
       "5"
      ]
     },
     "execution_count": 47,
     "metadata": {},
     "output_type": "execute_result"
    }
   ],
   "source": [
    "anagram(s)"
   ]
  },
  {
   "cell_type": "code",
   "execution_count": 49,
   "metadata": {},
   "outputs": [],
   "source": [
    "def anagram1(s):\n",
    "    from collections import Counter\n",
    "    if len(s)%2 != 0:\n",
    "        return -1\n",
    "    d1 = Counter(s[:int(len(s)/2)])\n",
    "    d2 = Counter(s[int(len(s)/2):])\n",
    "    diff = d1-d2\n",
    "    return sum(diff.values())"
   ]
  },
  {
   "cell_type": "code",
   "execution_count": 50,
   "metadata": {},
   "outputs": [
    {
     "data": {
      "text/plain": [
       "5"
      ]
     },
     "execution_count": 50,
     "metadata": {},
     "output_type": "execute_result"
    }
   ],
   "source": []
  },
  {
   "cell_type": "code",
   "execution_count": 36,
   "metadata": {},
   "outputs": [],
   "source": [
    "from collections import Counter"
   ]
  },
  {
   "cell_type": "code",
   "execution_count": 37,
   "metadata": {},
   "outputs": [],
   "source": [
    "d1 = Counter(s[:int(len(s)/2)])\n",
    "d2 = Counter(s[int(len(s)/2):])"
   ]
  },
  {
   "cell_type": "code",
   "execution_count": 42,
   "metadata": {},
   "outputs": [],
   "source": [
    "d = d1-d2"
   ]
  },
  {
   "cell_type": "code",
   "execution_count": 45,
   "metadata": {},
   "outputs": [
    {
     "data": {
      "text/plain": [
       "Counter({'f': 1, 'd': 1, 'v': 1, 'o': 1, 's': 1})"
      ]
     },
     "execution_count": 45,
     "metadata": {},
     "output_type": "execute_result"
    }
   ],
   "source": [
    "d"
   ]
  },
  {
   "cell_type": "code",
   "execution_count": null,
   "metadata": {},
   "outputs": [],
   "source": []
  }
 ],
 "metadata": {
  "kernelspec": {
   "display_name": "Python [conda env:python37]",
   "language": "python",
   "name": "conda-env-python37-py"
  },
  "language_info": {
   "codemirror_mode": {
    "name": "ipython",
    "version": 3
   },
   "file_extension": ".py",
   "mimetype": "text/x-python",
   "name": "python",
   "nbconvert_exporter": "python",
   "pygments_lexer": "ipython3",
   "version": "3.7.0"
  }
 },
 "nbformat": 4,
 "nbformat_minor": 2
}
