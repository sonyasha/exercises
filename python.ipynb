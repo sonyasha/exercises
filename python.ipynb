{
 "cells": [
  {
   "cell_type": "markdown",
   "metadata": {},
   "source": [
    "### find max hourglass sum in 2D array"
   ]
  },
  {
   "cell_type": "code",
   "execution_count": 1,
   "metadata": {},
   "outputs": [
    {
     "name": "stdout",
     "output_type": "stream",
     "text": [
      "[[1, 4, 3, 6, 2, 9], [9, 4, 7, 0, 1, 4], [0, 0, 0, 0, 0, 0], [5, 0, 1, 4, 2, 8], [4, 3, 6, 0, 0, 8], [5, 2, 1, 8, 5, 0]]\n"
     ]
    }
   ],
   "source": [
    "arr = []\n",
    "for _ in range(6):\n",
    "    arr.append(list(map(int, input().rstrip().split())))\n",
    "print(arr)"
   ]
  },
  {
   "cell_type": "code",
   "execution_count": 2,
   "metadata": {},
   "outputs": [],
   "source": [
    "def hourglassSum(arr):\n",
    "    max_sum = -63\n",
    "    for i in range(0, 4):\n",
    "        for j in range(0, 4):\n",
    "            summ = arr[i][j]+arr[i][j+1]+arr[i][j+2]+arr[i+1][j+1]+arr[i+2][j]+arr[i+2][j+1]+arr[i+2][j+2]\n",
    "            if summ > max_sum:\n",
    "                max_sum = summ\n",
    "    return max_sum"
   ]
  },
  {
   "cell_type": "code",
   "execution_count": 3,
   "metadata": {},
   "outputs": [
    {
     "data": {
      "text/plain": [
       "27"
      ]
     },
     "execution_count": 3,
     "metadata": {},
     "output_type": "execute_result"
    }
   ],
   "source": [
    "hourglassSum(arr)"
   ]
  },
  {
   "cell_type": "markdown",
   "metadata": {},
   "source": [
    "### perform d left rotations and return new array"
   ]
  },
  {
   "cell_type": "code",
   "execution_count": 5,
   "metadata": {},
   "outputs": [],
   "source": [
    "d = 10\n",
    "a = list(map(int, input().rstrip().split()))"
   ]
  },
  {
   "cell_type": "code",
   "execution_count": 5,
   "metadata": {},
   "outputs": [],
   "source": [
    "d = 7\n",
    "a = [45, 76, 111, 0, 8, 40, 8, 122, 62, 98, 5, 2, 90, 25, 66, 303, 41, 8, 1, 4, 0, 8, 34, 27, 0, 1]"
   ]
  },
  {
   "cell_type": "code",
   "execution_count": 6,
   "metadata": {},
   "outputs": [],
   "source": [
    "# if you don't know how to use modulus\n",
    "def rotLeft(a, d):\n",
    "    new_arr = list()\n",
    "    for ind in range(d, len(a)):\n",
    "        new_arr.append(a[ind])\n",
    "    for ind in range(0, d):\n",
    "        new_arr.append(a[ind])\n",
    "    return  ' '.join(str(el) for el in new_arr)"
   ]
  },
  {
   "cell_type": "code",
   "execution_count": 7,
   "metadata": {},
   "outputs": [
    {
     "data": {
      "text/plain": [
       "'122 62 98 5 2 90 25 66 303 41 8 1 4 0 8 34 27 0 1 45 76 111 0 8 40 8'"
      ]
     },
     "execution_count": 7,
     "metadata": {},
     "output_type": "execute_result"
    }
   ],
   "source": [
    "rotLeft(a, d)"
   ]
  },
  {
   "cell_type": "code",
   "execution_count": 8,
   "metadata": {},
   "outputs": [],
   "source": [
    "def rotLeftMod(a, d):\n",
    "    new_arr = list()\n",
    "    for ind in range(len(a)):\n",
    "        new_ind = (ind + d) % len(a)\n",
    "        new_arr.append(a[new_ind])\n",
    "    return  ' '.join(str(el) for el in new_arr)"
   ]
  },
  {
   "cell_type": "code",
   "execution_count": 9,
   "metadata": {},
   "outputs": [
    {
     "data": {
      "text/plain": [
       "'122 62 98 5 2 90 25 66 303 41 8 1 4 0 8 34 27 0 1 45 76 111 0 8 40 8'"
      ]
     },
     "execution_count": 9,
     "metadata": {},
     "output_type": "execute_result"
    }
   ],
   "source": [
    "rotLeftMod(a, d)"
   ]
  },
  {
   "cell_type": "markdown",
   "metadata": {},
   "source": [
    "### minimum bribes"
   ]
  },
  {
   "cell_type": "code",
   "execution_count": 61,
   "metadata": {},
   "outputs": [],
   "source": [
    "q = [1, 2, 5, 3, 4, 7, 8, 6]"
   ]
  },
  {
   "cell_type": "code",
   "execution_count": 138,
   "metadata": {},
   "outputs": [],
   "source": [
    "exmp = list(range(len(q)))"
   ]
  },
  {
   "cell_type": "code",
   "execution_count": 11,
   "metadata": {},
   "outputs": [],
   "source": [
    "for ind, value in enumerate(q):\n",
    "    if value - (ind + 1) > 2:\n",
    "        print('not good')"
   ]
  },
  {
   "cell_type": "code",
   "execution_count": 144,
   "metadata": {},
   "outputs": [],
   "source": [
    "count = 0\n",
    "def rotate(q):\n",
    "    for ind, value in enumerate(q):\n",
    "        if ind < (len(q)-1):\n",
    "            if value > q[ind + 1]:\n",
    "                global count\n",
    "                count += 1\n",
    "                print(value)\n",
    "                q[ind], q[ind+1] = q[ind+1], value\n",
    "    return q"
   ]
  },
  {
   "cell_type": "code",
   "execution_count": 145,
   "metadata": {},
   "outputs": [
    {
     "name": "stdout",
     "output_type": "stream",
     "text": [
      "5\n",
      "6\n",
      "3\n",
      "5\n"
     ]
    }
   ],
   "source": [
    "for el in range(len(q)):\n",
    "    if q != exmp:\n",
    "        rotate(q)"
   ]
  },
  {
   "cell_type": "code",
   "execution_count": 152,
   "metadata": {},
   "outputs": [],
   "source": [
    "def minimumBribes(q):\n",
    "    \n",
    "    for ind, value in enumerate(q):\n",
    "        if value - (ind + 1) > 2:\n",
    "            return print('Too chaotic')\n",
    "        \n",
    "    exmp = list(range(len(q)))\n",
    "    count = 0\n",
    "    \n",
    "    def rotate(q, count):\n",
    "        for ind, value in enumerate(q):\n",
    "            if ind < (len(q)-1):\n",
    "                if value > q[ind + 1]:\n",
    "                    count += 1\n",
    "                    q[ind], q[ind+1] = q[ind+1], value\n",
    "        return q, count\n",
    "    \n",
    "    for el in range(len(q)):\n",
    "        if q != exmp:\n",
    "            q, count = rotate(q, count)\n",
    "            \n",
    "    return print(count)"
   ]
  },
  {
   "cell_type": "code",
   "execution_count": 155,
   "metadata": {},
   "outputs": [
    {
     "data": {
      "text/plain": [
       "'Too chaotic'"
      ]
     },
     "execution_count": 155,
     "metadata": {},
     "output_type": "execute_result"
    }
   ],
   "source": [
    "minimumBribes(q)"
   ]
  },
  {
   "cell_type": "code",
   "execution_count": 60,
   "metadata": {},
   "outputs": [],
   "source": [
    "def minimumBribes(q):\n",
    "    \n",
    "    count = 0\n",
    "    change = False\n",
    "    \n",
    "    for ind, value in enumerate(q):\n",
    "        if value - (ind + 1) > 2:\n",
    "            return print('Too chaotic')\n",
    "    \n",
    "    for el in range(len(q)):\n",
    "        for j in range(len(q)-1):\n",
    "            if q[j] > q[j + 1]: \n",
    "                count += 1\n",
    "                q[j], q[j+1] = q[j+1], q[j]\n",
    "                change = True\n",
    "                \n",
    "        if change:\n",
    "            change = False\n",
    "        else:\n",
    "            return print(count)\n",
    "            \n",
    "    return print(count)"
   ]
  },
  {
   "cell_type": "code",
   "execution_count": 62,
   "metadata": {},
   "outputs": [
    {
     "name": "stdout",
     "output_type": "stream",
     "text": [
      "4\n"
     ]
    }
   ],
   "source": [
    "minimumBribes(q)"
   ]
  },
  {
   "cell_type": "markdown",
   "metadata": {},
   "source": [
    "### sort an array"
   ]
  },
  {
   "cell_type": "code",
   "execution_count": 298,
   "metadata": {},
   "outputs": [],
   "source": [
    "arr = [4, 3, 1, 2]"
   ]
  },
  {
   "cell_type": "code",
   "execution_count": 296,
   "metadata": {},
   "outputs": [
    {
     "data": {
      "text/plain": [
       "[1, 2, 3, 4]"
      ]
     },
     "execution_count": 296,
     "metadata": {},
     "output_type": "execute_result"
    }
   ],
   "source": [
    "sorted(arr)"
   ]
  },
  {
   "cell_type": "code",
   "execution_count": 213,
   "metadata": {},
   "outputs": [
    {
     "name": "stdout",
     "output_type": "stream",
     "text": [
      "to move: 4\n",
      "1\n",
      "[3, 4, 1, 2]\n",
      "to move: 4\n",
      "2\n",
      "[3, 1, 4, 2]\n",
      "to move: 4\n",
      "3\n",
      "[3, 1, 2, 4]\n",
      "to move: 3\n",
      "1\n",
      "[1, 3, 2, 4]\n",
      "to move: 3\n",
      "2\n",
      "[1, 2, 3, 4]\n"
     ]
    }
   ],
   "source": [
    "count = 0\n",
    "for x in range(len(arr)):\n",
    "    for ind in range(len(arr)-1):\n",
    "        if arr[ind] > (ind + 1):\n",
    "            print(f'to move: {arr[ind]}')\n",
    "            for v in range(ind+1, len(arr)):\n",
    "                if arr[v] != (v+1):\n",
    "                    print(v)\n",
    "                    arr[ind], arr[v] = arr[v], arr[ind]\n",
    "                    count += 1\n",
    "                    print(arr)\n",
    "                    break\n"
   ]
  },
  {
   "cell_type": "code",
   "execution_count": 211,
   "metadata": {},
   "outputs": [
    {
     "data": {
      "text/plain": [
       "5"
      ]
     },
     "execution_count": 211,
     "metadata": {},
     "output_type": "execute_result"
    }
   ],
   "source": [
    "count"
   ]
  },
  {
   "cell_type": "code",
   "execution_count": 299,
   "metadata": {},
   "outputs": [
    {
     "name": "stdout",
     "output_type": "stream",
     "text": [
      "0\n",
      "[2, 3, 1, 4]\n",
      "1\n",
      "[3, 2, 1, 4]\n",
      "2\n",
      "[1, 2, 3, 4]\n",
      "3\n",
      "count: 3\n"
     ]
    }
   ],
   "source": [
    "count = 0\n",
    "change = False\n",
    "for x in range(len(arr)):\n",
    "    print(x)\n",
    "    for ind in range(len(arr)-1):\n",
    "        if arr[ind] != (ind + 1):\n",
    "            arr[arr[ind]-1], arr[ind] = arr[ind], arr[arr[ind]-1]\n",
    "            count += 1\n",
    "            change = True\n",
    "            print(arr)\n",
    "            break\n",
    "    if change:\n",
    "        change = False\n",
    "    else:\n",
    "        print(f'count: {count}')\n"
   ]
  },
  {
   "cell_type": "code",
   "execution_count": 328,
   "metadata": {},
   "outputs": [],
   "source": [
    "arr = [4, 3, 1, 2]"
   ]
  },
  {
   "cell_type": "code",
   "execution_count": 329,
   "metadata": {},
   "outputs": [
    {
     "name": "stdout",
     "output_type": "stream",
     "text": [
      "4\n",
      "2\n",
      "3\n",
      "3\n",
      "4\n",
      "3\n",
      "count: 3\n"
     ]
    }
   ],
   "source": [
    "corr = sorted(arr)\n",
    "count = 0\n",
    "hash_table = {v: i for i,v in enumerate(arr)}\n",
    "for ind, val in enumerate(arr):\n",
    "    if val != corr[ind]:\n",
    "        print(val)\n",
    "        to_change = hash_table[corr[ind]]\n",
    "        print(to_change)\n",
    "        arr[to_change], arr[ind] = arr[ind], arr[to_change]\n",
    "        hash_table[val] = to_change\n",
    "        hash_table[corr[ind]] = ind\n",
    "        count += 1\n",
    "print(f'count: {count}')"
   ]
  },
  {
   "cell_type": "code",
   "execution_count": null,
   "metadata": {},
   "outputs": [],
   "source": []
  },
  {
   "cell_type": "code",
   "execution_count": null,
   "metadata": {},
   "outputs": [],
   "source": []
  },
  {
   "cell_type": "code",
   "execution_count": null,
   "metadata": {},
   "outputs": [],
   "source": []
  }
 ],
 "metadata": {
  "kernelspec": {
   "display_name": "Python [default]",
   "language": "python",
   "name": "python3"
  },
  "language_info": {
   "codemirror_mode": {
    "name": "ipython",
    "version": 3
   },
   "file_extension": ".py",
   "mimetype": "text/x-python",
   "name": "python",
   "nbconvert_exporter": "python",
   "pygments_lexer": "ipython3",
   "version": "3.6.4"
  }
 },
 "nbformat": 4,
 "nbformat_minor": 2
}
