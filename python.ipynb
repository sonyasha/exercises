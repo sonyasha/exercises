{
 "cells": [
  {
   "cell_type": "markdown",
   "metadata": {},
   "source": [
    "### find max hourglass sum in 2D array"
   ]
  },
  {
   "cell_type": "code",
   "execution_count": 1,
   "metadata": {},
   "outputs": [
    {
     "name": "stdout",
     "output_type": "stream",
     "text": [
      "[[1, 4, 3, 6, 2, 9], [9, 4, 7, 0, 1, 4], [0, 0, 0, 0, 0, 0], [5, 0, 1, 4, 2, 8], [4, 3, 6, 0, 0, 8], [5, 2, 1, 8, 5, 0]]\n"
     ]
    }
   ],
   "source": [
    "arr = []\n",
    "for _ in range(6):\n",
    "    arr.append(list(map(int, input().rstrip().split())))\n",
    "print(arr)"
   ]
  },
  {
   "cell_type": "code",
   "execution_count": 1,
   "metadata": {},
   "outputs": [],
   "source": [
    "arr = [[1, 4, 3, 6, 2, 9], [9, 4, 7, 0, 1, 4], [0, 0, 0, 0, 0, 0], [5, 0, 1, 4, 2, 8], [4, 3, 6, 0, 0, 8], [5, 2, 1, 8, 5, 0]]\n"
   ]
  },
  {
   "cell_type": "code",
   "execution_count": 2,
   "metadata": {},
   "outputs": [],
   "source": [
    "def hourglassSum(arr):\n",
    "    max_sum = -63\n",
    "    for i in range(0, 4):\n",
    "        for j in range(0, 4):\n",
    "            summ = arr[i][j]+arr[i][j+1]+arr[i][j+2]+arr[i+1][j+1]+arr[i+2][j]+arr[i+2][j+1]+arr[i+2][j+2]\n",
    "            if summ > max_sum:\n",
    "                max_sum = summ\n",
    "    return max_sum"
   ]
  },
  {
   "cell_type": "code",
   "execution_count": 3,
   "metadata": {},
   "outputs": [
    {
     "data": {
      "text/plain": [
       "27"
      ]
     },
     "execution_count": 3,
     "metadata": {},
     "output_type": "execute_result"
    }
   ],
   "source": [
    "hourglassSum(arr)"
   ]
  },
  {
   "cell_type": "markdown",
   "metadata": {},
   "source": [
    "### perform d left rotations and return new array"
   ]
  },
  {
   "cell_type": "code",
   "execution_count": 5,
   "metadata": {},
   "outputs": [],
   "source": [
    "d = 10\n",
    "a = list(map(int, input().rstrip().split()))"
   ]
  },
  {
   "cell_type": "code",
   "execution_count": 4,
   "metadata": {},
   "outputs": [],
   "source": [
    "d = 7\n",
    "a = [45, 76, 111, 0, 8, 40, 8, 122, 62, 98, 5, 2, 90, 25, 66, 303, 41, 8, 1, 4, 0, 8, 34, 27, 0, 1]"
   ]
  },
  {
   "cell_type": "code",
   "execution_count": 5,
   "metadata": {},
   "outputs": [],
   "source": [
    "# if you don't know how to use modulus\n",
    "def rotLeft(a, d):\n",
    "    new_arr = list()\n",
    "    for ind in range(d, len(a)):\n",
    "        new_arr.append(a[ind])\n",
    "    for ind in range(0, d):\n",
    "        new_arr.append(a[ind])\n",
    "    return  ' '.join(str(el) for el in new_arr)"
   ]
  },
  {
   "cell_type": "code",
   "execution_count": 6,
   "metadata": {},
   "outputs": [
    {
     "data": {
      "text/plain": [
       "'122 62 98 5 2 90 25 66 303 41 8 1 4 0 8 34 27 0 1 45 76 111 0 8 40 8'"
      ]
     },
     "execution_count": 6,
     "metadata": {},
     "output_type": "execute_result"
    }
   ],
   "source": [
    "rotLeft(a, d)"
   ]
  },
  {
   "cell_type": "code",
   "execution_count": 7,
   "metadata": {},
   "outputs": [],
   "source": [
    "def rotLeftMod(a, d):\n",
    "    new_arr = list()\n",
    "    for ind in range(len(a)):\n",
    "        new_ind = (ind + d) % len(a)\n",
    "        new_arr.append(a[new_ind])\n",
    "    return  ' '.join(str(el) for el in new_arr)"
   ]
  },
  {
   "cell_type": "code",
   "execution_count": 8,
   "metadata": {},
   "outputs": [
    {
     "data": {
      "text/plain": [
       "'122 62 98 5 2 90 25 66 303 41 8 1 4 0 8 34 27 0 1 45 76 111 0 8 40 8'"
      ]
     },
     "execution_count": 8,
     "metadata": {},
     "output_type": "execute_result"
    }
   ],
   "source": [
    "rotLeftMod(a, d)"
   ]
  },
  {
   "cell_type": "markdown",
   "metadata": {},
   "source": [
    "### minimum bribes"
   ]
  },
  {
   "cell_type": "code",
   "execution_count": 17,
   "metadata": {},
   "outputs": [],
   "source": [
    "q = [1, 2, 5, 3, 4, 7, 8, 6]"
   ]
  },
  {
   "cell_type": "code",
   "execution_count": 10,
   "metadata": {},
   "outputs": [],
   "source": [
    "exmp = list(range(len(q)))"
   ]
  },
  {
   "cell_type": "code",
   "execution_count": 11,
   "metadata": {},
   "outputs": [],
   "source": [
    "for ind, value in enumerate(q):\n",
    "    if value - (ind + 1) > 2:\n",
    "        print('not good')"
   ]
  },
  {
   "cell_type": "code",
   "execution_count": 18,
   "metadata": {},
   "outputs": [],
   "source": [
    "count = 0\n",
    "def rotate(q):\n",
    "    for ind, value in enumerate(q):\n",
    "        if ind < (len(q)-1):\n",
    "            if value > q[ind + 1]:\n",
    "                global count\n",
    "                count += 1\n",
    "                print(value)\n",
    "                q[ind], q[ind+1] = q[ind+1], value\n",
    "    return q"
   ]
  },
  {
   "cell_type": "code",
   "execution_count": 19,
   "metadata": {},
   "outputs": [],
   "source": [
    "def minimumBribes(q):\n",
    "    \n",
    "    for ind, value in enumerate(q):\n",
    "        if value - (ind + 1) > 2:\n",
    "            return print('Too chaotic')\n",
    "        \n",
    "    exmp = list(range(len(q)))\n",
    "    count = 0\n",
    "    \n",
    "    def rotate(q, count):\n",
    "        for ind, value in enumerate(q):\n",
    "            if ind < (len(q)-1):\n",
    "                if value > q[ind + 1]:\n",
    "                    count += 1\n",
    "                    q[ind], q[ind+1] = q[ind+1], value\n",
    "        return q, count\n",
    "    \n",
    "    for el in range(len(q)):\n",
    "        if q != exmp:\n",
    "            q, count = rotate(q, count)\n",
    "            \n",
    "    return print(count)"
   ]
  },
  {
   "cell_type": "code",
   "execution_count": 20,
   "metadata": {},
   "outputs": [
    {
     "name": "stdout",
     "output_type": "stream",
     "text": [
      "4\n"
     ]
    }
   ],
   "source": [
    "minimumBribes(q)"
   ]
  },
  {
   "cell_type": "code",
   "execution_count": 21,
   "metadata": {},
   "outputs": [],
   "source": [
    "def minimumBribes(q):\n",
    "    \n",
    "    count = 0\n",
    "    change = False\n",
    "    \n",
    "    for ind, value in enumerate(q):\n",
    "        if value - (ind + 1) > 2:\n",
    "            return print('Too chaotic')\n",
    "    \n",
    "    for el in range(len(q)):\n",
    "        for j in range(len(q)-1):\n",
    "            if q[j] > q[j + 1]: \n",
    "                count += 1\n",
    "                q[j], q[j+1] = q[j+1], q[j]\n",
    "                change = True\n",
    "                \n",
    "        if change:\n",
    "            change = False\n",
    "        else:\n",
    "            return print(count)\n",
    "            \n",
    "    return print(count)"
   ]
  },
  {
   "cell_type": "code",
   "execution_count": 22,
   "metadata": {},
   "outputs": [],
   "source": [
    "q = [1, 2, 5, 3, 4, 7, 8, 6]"
   ]
  },
  {
   "cell_type": "code",
   "execution_count": 23,
   "metadata": {},
   "outputs": [
    {
     "name": "stdout",
     "output_type": "stream",
     "text": [
      "4\n"
     ]
    }
   ],
   "source": [
    "minimumBribes(q)"
   ]
  },
  {
   "cell_type": "markdown",
   "metadata": {},
   "source": [
    "### sort an array"
   ]
  },
  {
   "cell_type": "code",
   "execution_count": 29,
   "metadata": {},
   "outputs": [],
   "source": [
    "arr = [4, 3, 1, 2]"
   ]
  },
  {
   "cell_type": "code",
   "execution_count": 25,
   "metadata": {},
   "outputs": [
    {
     "data": {
      "text/plain": [
       "[1, 2, 3, 4]"
      ]
     },
     "execution_count": 25,
     "metadata": {},
     "output_type": "execute_result"
    }
   ],
   "source": [
    "sorted(arr)"
   ]
  },
  {
   "cell_type": "code",
   "execution_count": 26,
   "metadata": {},
   "outputs": [
    {
     "name": "stdout",
     "output_type": "stream",
     "text": [
      "to move: 4\n",
      "1\n",
      "[3, 4, 1, 2]\n",
      "to move: 4\n",
      "2\n",
      "[3, 1, 4, 2]\n",
      "to move: 4\n",
      "3\n",
      "[3, 1, 2, 4]\n",
      "to move: 3\n",
      "1\n",
      "[1, 3, 2, 4]\n",
      "to move: 3\n",
      "2\n",
      "[1, 2, 3, 4]\n"
     ]
    }
   ],
   "source": [
    "count = 0\n",
    "for x in range(len(arr)):\n",
    "    for ind in range(len(arr)-1):\n",
    "        if arr[ind] > (ind + 1):\n",
    "            print(f'to move: {arr[ind]}')\n",
    "            for v in range(ind+1, len(arr)):\n",
    "                if arr[v] != (v+1):\n",
    "                    print(v)\n",
    "                    arr[ind], arr[v] = arr[v], arr[ind]\n",
    "                    count += 1\n",
    "                    print(arr)\n",
    "                    break\n"
   ]
  },
  {
   "cell_type": "code",
   "execution_count": 27,
   "metadata": {},
   "outputs": [
    {
     "data": {
      "text/plain": [
       "5"
      ]
     },
     "execution_count": 27,
     "metadata": {},
     "output_type": "execute_result"
    }
   ],
   "source": [
    "count"
   ]
  },
  {
   "cell_type": "code",
   "execution_count": 30,
   "metadata": {},
   "outputs": [
    {
     "name": "stdout",
     "output_type": "stream",
     "text": [
      "0\n",
      "[2, 3, 1, 4]\n",
      "1\n",
      "[3, 2, 1, 4]\n",
      "2\n",
      "[1, 2, 3, 4]\n",
      "3\n",
      "count: 3\n"
     ]
    }
   ],
   "source": [
    "count = 0\n",
    "change = False\n",
    "for x in range(len(arr)):\n",
    "    print(x)\n",
    "    for ind in range(len(arr)-1):\n",
    "        if arr[ind] != (ind + 1):\n",
    "            arr[arr[ind]-1], arr[ind] = arr[ind], arr[arr[ind]-1]\n",
    "            count += 1\n",
    "            change = True\n",
    "            print(arr)\n",
    "            break\n",
    "    if change:\n",
    "        change = False\n",
    "    else:\n",
    "        print(f'count: {count}')\n"
   ]
  },
  {
   "cell_type": "code",
   "execution_count": 31,
   "metadata": {},
   "outputs": [],
   "source": [
    "arr = [4, 3, 1, 2]"
   ]
  },
  {
   "cell_type": "code",
   "execution_count": 32,
   "metadata": {},
   "outputs": [
    {
     "name": "stdout",
     "output_type": "stream",
     "text": [
      "4\n",
      "2\n",
      "3\n",
      "3\n",
      "4\n",
      "3\n",
      "count: 3\n"
     ]
    }
   ],
   "source": [
    "corr = sorted(arr)\n",
    "count = 0\n",
    "hash_table = {v: i for i,v in enumerate(arr)}\n",
    "for ind, val in enumerate(arr):\n",
    "    if val != corr[ind]:\n",
    "        print(val)\n",
    "        to_change = hash_table[corr[ind]]\n",
    "        print(to_change)\n",
    "        arr[to_change], arr[ind] = arr[ind], arr[to_change]\n",
    "        hash_table[val] = to_change\n",
    "        hash_table[corr[ind]] = ind\n",
    "        count += 1\n",
    "print(f'count: {count}')"
   ]
  },
  {
   "cell_type": "markdown",
   "metadata": {},
   "source": [
    "### changing a list"
   ]
  },
  {
   "cell_type": "code",
   "execution_count": 33,
   "metadata": {},
   "outputs": [
    {
     "data": {
      "text/plain": [
       "[0, 0, 0, 0, 0, 0, 0, 0, 0, 0]"
      ]
     },
     "execution_count": 33,
     "metadata": {},
     "output_type": "execute_result"
    }
   ],
   "source": [
    "queries = [[1,2,100], [2,5,100], [3,4,100]]\n",
    "n = 10\n",
    "arr = [0] * (n)\n",
    "arr"
   ]
  },
  {
   "cell_type": "code",
   "execution_count": 34,
   "metadata": {},
   "outputs": [
    {
     "name": "stdout",
     "output_type": "stream",
     "text": [
      "[100, 100, 0, 0, 0, 0, 0, 0, 0, 0]\n",
      "[100, 200, 100, 100, 100, 0, 0, 0, 0, 0]\n",
      "[100, 200, 200, 200, 100, 0, 0, 0, 0, 0]\n",
      "200\n"
     ]
    }
   ],
   "source": [
    "for q in queries:    \n",
    "    for x in range(q[0]-1, q[1]):\n",
    "        arr[x] = arr[x] + q[2]\n",
    "    print(arr)\n",
    "print(max(arr))    "
   ]
  },
  {
   "cell_type": "code",
   "execution_count": 35,
   "metadata": {},
   "outputs": [],
   "source": [
    "queries = [[1,2,100], [2,5,100], [3,4,100]]\n",
    "n = 10\n",
    "arr = [0] * (n+1)"
   ]
  },
  {
   "cell_type": "code",
   "execution_count": 36,
   "metadata": {},
   "outputs": [
    {
     "name": "stdout",
     "output_type": "stream",
     "text": [
      "[100, 0, -100, 0, 0, 0, 0, 0, 0, 0, 0]\n",
      "q0: 1\n",
      "max: 0, q0: 0\n",
      "100\n",
      "[100, 100, -100, 0, 0, -100, 0, 0, 0, 0, 0]\n",
      "q0: 2\n",
      "max: 0, q0: 0\n",
      "200\n",
      "[100, 100, 0, 0, -100, -100, 0, 0, 0, 0, 0]\n",
      "q0: 3\n",
      "max: 0, q0: 0\n",
      "200\n"
     ]
    }
   ],
   "source": [
    "for q in queries:\n",
    "    arr[q[0]-1] += q[2]\n",
    "    if((q[1]) <= len(arr)):\n",
    "        arr[q[1]] -= q[2]\n",
    "    print(arr)\n",
    "    print(f'q0: {q[0]}')\n",
    "    maximum = q[0] = 0\n",
    "    print(f'max: {maximum}, q0: {q[0]}')\n",
    "    for i in arr:\n",
    "        q[0] = q[0] + i\n",
    "        if(maximum < q[0]):\n",
    "            maximum = q[0]\n",
    "    print(maximum)\n",
    "    "
   ]
  },
  {
   "cell_type": "code",
   "execution_count": 40,
   "metadata": {},
   "outputs": [],
   "source": [
    "from itertools import accumulate\n",
    "from functools import reduce\n",
    "queries = [[1,2,100], [2,5,100], [3,4,100]]\n",
    "n = 10\n",
    "arr = [0] * (n+1)"
   ]
  },
  {
   "cell_type": "code",
   "execution_count": 38,
   "metadata": {},
   "outputs": [
    {
     "name": "stdout",
     "output_type": "stream",
     "text": [
      "[100, 200, 0, 0, -100, -100, 0, 0, 0, 0, 0]\n",
      "[100, 200, 200, 0, -100, -100, 0, 0, 0, 0, 0]\n",
      "[100, 200, 200, 200, -100, -100, 0, 0, 0, 0, 0]\n",
      "[100, 200, 200, 200, 100, -100, 0, 0, 0, 0, 0]\n",
      "[100, 200, 200, 200, 100, 0, 0, 0, 0, 0, 0]\n",
      "[100, 200, 200, 200, 100, 0, 0, 0, 0, 0, 0]\n",
      "[100, 200, 200, 200, 100, 0, 0, 0, 0, 0, 0]\n",
      "[100, 200, 200, 200, 100, 0, 0, 0, 0, 0, 0]\n",
      "[100, 200, 200, 200, 100, 0, 0, 0, 0, 0, 0]\n",
      "[100, 200, 200, 200, 100, 0, 0, 0, 0, 0, 0]\n"
     ]
    },
    {
     "data": {
      "text/plain": [
       "200"
      ]
     },
     "execution_count": 38,
     "metadata": {},
     "output_type": "execute_result"
    }
   ],
   "source": [
    "for q in queries:\n",
    "    arr[q[0] - 1] += q[2]\n",
    "    arr[q[1]] -= q[2]\n",
    "for i in range(1, len(arr)):\n",
    "    arr[i] += arr[i-1]\n",
    "#     print(arr)\n",
    "max(arr)"
   ]
  },
  {
   "cell_type": "code",
   "execution_count": 41,
   "metadata": {},
   "outputs": [
    {
     "data": {
      "text/plain": [
       "200"
      ]
     },
     "execution_count": 41,
     "metadata": {},
     "output_type": "execute_result"
    }
   ],
   "source": [
    "for q in queries:\n",
    "    arr[q[0] - 1] += q[2]\n",
    "    arr[q[1]] -= q[2]\n",
    "    \n",
    "max(accumulate(arr))  "
   ]
  },
  {
   "cell_type": "markdown",
   "metadata": {},
   "source": [
    "### sorting an array"
   ]
  },
  {
   "cell_type": "code",
   "execution_count": 68,
   "metadata": {},
   "outputs": [],
   "source": [
    "arr = [6, 2, 8, 1, 0, 3, 7, 11, 500, 4, 1054]\n",
    "arr_sort = sorted(arr)\n",
    "hash_table = {val: ind for ind, val in enumerate(arr_sort)}"
   ]
  },
  {
   "cell_type": "code",
   "execution_count": 69,
   "metadata": {},
   "outputs": [
    {
     "name": "stdout",
     "output_type": "stream",
     "text": [
      "to change\n",
      "[3, 2, 8, 1, 0, 6, 7, 11, 500, 4, 1054]\n",
      "to change\n",
      "[1, 2, 8, 3, 0, 6, 7, 11, 500, 4, 1054]\n",
      "to change\n",
      "[2, 1, 8, 3, 0, 6, 7, 11, 500, 4, 1054]\n",
      "to change\n",
      "[8, 1, 2, 3, 0, 6, 7, 11, 500, 4, 1054]\n",
      "to change\n",
      "[11, 1, 2, 3, 0, 6, 7, 8, 500, 4, 1054]\n",
      "to change\n",
      "[500, 1, 2, 3, 0, 6, 7, 8, 11, 4, 1054]\n",
      "to change\n",
      "[4, 1, 2, 3, 0, 6, 7, 8, 11, 500, 1054]\n",
      "to change\n",
      "[0, 1, 2, 3, 4, 6, 7, 8, 11, 500, 1054]\n",
      "Array is sorted in 8 swaps.\n",
      "First Element: 0\n",
      "Last Element: 1054\n"
     ]
    }
   ],
   "source": [
    "#fast version\n",
    "count = 0\n",
    "for el in range(len(arr)):\n",
    "    for ind in range(len(arr)-1):\n",
    "        if arr[ind] != arr_sort[ind]:\n",
    "            print('to change')\n",
    "            arr[hash_table[arr[ind]]], arr[ind] = arr[ind], arr[hash_table[arr[ind]]]\n",
    "            count += 1\n",
    "            print(arr)\n",
    "            break\n",
    "print('Array is sorted in {} swaps.'.format(count))\n",
    "print(f'First Element: {arr[0]}')\n",
    "print(f'Last Element: {arr[-1]}')"
   ]
  },
  {
   "cell_type": "code",
   "execution_count": 74,
   "metadata": {},
   "outputs": [
    {
     "name": "stdout",
     "output_type": "stream",
     "text": [
      "Array is sorted in 5 swaps.\n",
      "First Element: 1\n",
      "Last Element: 4\n"
     ]
    }
   ],
   "source": [
    "# slow version\n",
    "arr = [4, 2, 3, 1]\n",
    "count = 0\n",
    "for el in range(len(arr)):\n",
    "    for ind in range(len(arr)-1):\n",
    "        if arr[ind] > arr[ind+1]:\n",
    "            arr[ind+1], arr[ind] = arr[ind], arr[ind+1]\n",
    "            count += 1\n",
    "\n",
    "print('Array is sorted in {} swaps.'.format(count))\n",
    "print('First Element: {}'.format(arr[0]))\n",
    "print('Last Element: {}'.format(arr[-1]))"
   ]
  },
  {
   "cell_type": "markdown",
   "metadata": {},
   "source": [
    "### maximum items"
   ]
  },
  {
   "cell_type": "code",
   "execution_count": 81,
   "metadata": {},
   "outputs": [],
   "source": [
    "prices = [6, 2, 8, 1, 0, 3, 7, 11, 500, 4, 1054]\n",
    "k = 25"
   ]
  },
  {
   "cell_type": "code",
   "execution_count": 82,
   "metadata": {},
   "outputs": [],
   "source": [
    "sort_prices = sorted(prices)"
   ]
  },
  {
   "cell_type": "code",
   "execution_count": 83,
   "metadata": {},
   "outputs": [
    {
     "name": "stdout",
     "output_type": "stream",
     "text": [
      "23\n",
      "7\n"
     ]
    }
   ],
   "source": [
    "summ = 0\n",
    "count = 0\n",
    "for ind in range(len(prices)):\n",
    "    if (summ + sort_prices[ind])  < k:\n",
    "        summ += sort_prices[ind]\n",
    "        count += 1\n",
    "    else:\n",
    "        print(summ)\n",
    "        print(count)\n",
    "        break\n"
   ]
  },
  {
   "cell_type": "code",
   "execution_count": null,
   "metadata": {},
   "outputs": [],
   "source": []
  }
 ],
 "metadata": {
  "kernelspec": {
   "display_name": "Python [default]",
   "language": "python",
   "name": "python3"
  },
  "language_info": {
   "codemirror_mode": {
    "name": "ipython",
    "version": 3
   },
   "file_extension": ".py",
   "mimetype": "text/x-python",
   "name": "python",
   "nbconvert_exporter": "python",
   "pygments_lexer": "ipython3",
   "version": "3.6.4"
  }
 },
 "nbformat": 4,
 "nbformat_minor": 2
}
