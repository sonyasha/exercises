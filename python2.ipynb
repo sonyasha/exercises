{
 "cells": [
  {
   "cell_type": "code",
   "execution_count": 55,
   "metadata": {},
   "outputs": [],
   "source": [
    "unsorted_scores = [37, 89, 41, 65, 91, 53, 53, 53]\n",
    "HIGHEST_POSSIBLE_SCORE = 100"
   ]
  },
  {
   "cell_type": "code",
   "execution_count": 56,
   "metadata": {},
   "outputs": [],
   "source": [
    "def sort_scores(unsorted_scores, HIGHEST_POSSIBLE_SCORE):\n",
    "    return sorted(unsorted_scores, reverse=True)"
   ]
  },
  {
   "cell_type": "code",
   "execution_count": 57,
   "metadata": {},
   "outputs": [
    {
     "data": {
      "text/plain": [
       "[91, 89, 65, 53, 53, 53, 41, 37]"
      ]
     },
     "execution_count": 57,
     "metadata": {},
     "output_type": "execute_result"
    }
   ],
   "source": [
    "sort_scores(unsorted_scores, HIGHEST_POSSIBLE_SCORE)"
   ]
  },
  {
   "cell_type": "code",
   "execution_count": 121,
   "metadata": {},
   "outputs": [],
   "source": [
    "#return nth number in fib sequence\n",
    "def fib(n):\n",
    "    if n>=0 and n<2:\n",
    "        return n\n",
    "    \n",
    "    def fibgen(n):\n",
    "        arr = [0,1]\n",
    "        for el in range(1,n):\n",
    "            arr.append(arr[el] + arr[el-1])\n",
    "            yield arr[-1]\n",
    "    \n",
    "    last = list(fibgen(n))\n",
    "    \n",
    "    return last[-1]\n"
   ]
  },
  {
   "cell_type": "code",
   "execution_count": 136,
   "metadata": {},
   "outputs": [
    {
     "data": {
      "text/plain": [
       "21"
      ]
     },
     "execution_count": 136,
     "metadata": {},
     "output_type": "execute_result"
    }
   ],
   "source": [
    "fib(8)"
   ]
  },
  {
   "cell_type": "code",
   "execution_count": 138,
   "metadata": {},
   "outputs": [],
   "source": [
    "def fib1(n):\n",
    "    \n",
    "    if n<0:\n",
    "        raise ValueError('Can\"t be negative')\n",
    "    \n",
    "    if n >= 0 and n < 2:\n",
    "        return n\n",
    "    prev2 = 0\n",
    "    prev = 1\n",
    "    \n",
    "    for _ in range(n-1):\n",
    "        cur_prev = prev\n",
    "        prev = prev2 + prev\n",
    "        prev2 = cur_prev\n",
    "        \n",
    "    return prev"
   ]
  },
  {
   "cell_type": "code",
   "execution_count": 141,
   "metadata": {},
   "outputs": [
    {
     "data": {
      "text/plain": [
       "5"
      ]
     },
     "execution_count": 141,
     "metadata": {},
     "output_type": "execute_result"
    }
   ],
   "source": [
    "fib1(5)"
   ]
  },
  {
   "cell_type": "code",
   "execution_count": 189,
   "metadata": {},
   "outputs": [],
   "source": [
    "s = '092282'\n",
    "n = 3"
   ]
  },
  {
   "cell_type": "code",
   "execution_count": 190,
   "metadata": {},
   "outputs": [],
   "source": [
    "from collections import Counter"
   ]
  },
  {
   "cell_type": "code",
   "execution_count": 193,
   "metadata": {},
   "outputs": [
    {
     "name": "stdout",
     "output_type": "stream",
     "text": [
      "Counter({'0': 1, '9': 1, '2': 1}) Counter({'2': 2, '8': 1})\n"
     ]
    },
    {
     "data": {
      "text/plain": [
       "Counter({'0': 1, '9': 1})"
      ]
     },
     "execution_count": 193,
     "metadata": {},
     "output_type": "execute_result"
    }
   ],
   "source": [
    "s1 = Counter(s[:int(len(s)/2)])\n",
    "s2 = Counter(s[int(len(s)/2):])\n",
    "print(s1,s2)\n",
    "s1-s2"
   ]
  },
  {
   "cell_type": "code",
   "execution_count": 195,
   "metadata": {},
   "outputs": [
    {
     "data": {
      "text/plain": [
       "2"
      ]
     },
     "execution_count": 195,
     "metadata": {},
     "output_type": "execute_result"
    }
   ],
   "source": [
    "sum((s1-s2).values())"
   ]
  },
  {
   "cell_type": "code",
   "execution_count": 209,
   "metadata": {},
   "outputs": [
    {
     "name": "stdout",
     "output_type": "stream",
     "text": [
      "['2', '9', '2', '2', '8', '2']\n",
      "['2', '9', '2', '2', '9', '2']\n"
     ]
    }
   ],
   "source": [
    "n=3\n",
    "l = len(s)-1\n",
    "ls = [el for el in s]\n",
    "for i in range(int(len(s)/2)):\n",
    "    if ls[i] != ls[l] and n>0:\n",
    "        ls[i] = ls[l] = max(ls[i],ls[l])\n",
    "        print(ls)\n",
    "        n -= 1\n",
    "    l -= 1"
   ]
  },
  {
   "cell_type": "code",
   "execution_count": 353,
   "metadata": {},
   "outputs": [],
   "source": [
    "def highestValuePalindrome(s, n, k):\n",
    "    \n",
    "    s1 = Counter(s[:int(len(s)//2)])\n",
    "    s2 = Counter(s[int(len(s)//2):])\n",
    "    diff = sum((s1-s2).values())\n",
    "    print(f'diff: {diff}')\n",
    "               \n",
    "    if diff > k:\n",
    "        return -1\n",
    "    \n",
    "    ls = [el for el in s]\n",
    "    l = len(s)-1\n",
    "    \n",
    "    k = k\n",
    "    d = k - diff\n",
    "    \n",
    "    \n",
    "    for i in range(int(len(s)//2)):\n",
    "        if ls[i] != ls[l] and k >= 1:\n",
    "            ls[i] = ls[l] = max(ls[i],ls[l])\n",
    "            print(ls)\n",
    "            k -= 1\n",
    "        if d >= 2 and int(ls[i]) < 9:\n",
    "            ls[i] = ls[l] = '9'\n",
    "            d -= 2 \n",
    "#         if ls[i] != ls[l] and k > 0:\n",
    "#             ls[i] = ls[l] = max(ls[i],ls[l])\n",
    "#             print(ls)\n",
    "#             k -= 1\n",
    "        l -= 1\n",
    "        \n",
    "    if n % 2 != 0:\n",
    "        if d >=1 and ls[len(s)//2] != 9:\n",
    "                ls[len(s)//2] = '9'\n",
    "                \n",
    "    \n",
    "#         for i in range(int((len(s)//2)+1)):\n",
    "#             print(i)\n",
    "#             if d >= 2 and ls[i] != ls[l] and int(ls[i]) < 9:\n",
    "#                 ls[i] = ls[l] = '9'\n",
    "#                 d -= 2 \n",
    "#             if ls[i] != ls[l] and k > 0:\n",
    "#                 ls[i] = ls[l] = max(ls[i],ls[l])\n",
    "#                 print(ls)\n",
    "#                 k -= 1\n",
    "#             l -= 1\n",
    "            \n",
    "    \n",
    "    return ''.join(ls)"
   ]
  },
  {
   "cell_type": "code",
   "execution_count": 354,
   "metadata": {},
   "outputs": [],
   "source": [
    "s = '092282'\n",
    "n = 6\n",
    "k = 3"
   ]
  },
  {
   "cell_type": "code",
   "execution_count": 355,
   "metadata": {},
   "outputs": [
    {
     "name": "stdout",
     "output_type": "stream",
     "text": [
      "diff: 2\n",
      "['2', '9', '2', '2', '8', '2']\n",
      "['2', '9', '2', '2', '9', '2']\n"
     ]
    },
    {
     "data": {
      "text/plain": [
       "'292292'"
      ]
     },
     "execution_count": 355,
     "metadata": {},
     "output_type": "execute_result"
    }
   ],
   "source": [
    "highestValuePalindrome(s, n, k)"
   ]
  },
  {
   "cell_type": "code",
   "execution_count": null,
   "metadata": {},
   "outputs": [],
   "source": []
  },
  {
   "cell_type": "code",
   "execution_count": null,
   "metadata": {},
   "outputs": [],
   "source": []
  },
  {
   "cell_type": "code",
   "execution_count": null,
   "metadata": {},
   "outputs": [],
   "source": []
  },
  {
   "cell_type": "code",
   "execution_count": null,
   "metadata": {},
   "outputs": [],
   "source": []
  },
  {
   "cell_type": "code",
   "execution_count": null,
   "metadata": {},
   "outputs": [],
   "source": []
  },
  {
   "cell_type": "code",
   "execution_count": null,
   "metadata": {},
   "outputs": [],
   "source": []
  }
 ],
 "metadata": {
  "kernelspec": {
   "display_name": "Python [conda env:python37]",
   "language": "python",
   "name": "conda-env-python37-py"
  },
  "language_info": {
   "codemirror_mode": {
    "name": "ipython",
    "version": 3
   },
   "file_extension": ".py",
   "mimetype": "text/x-python",
   "name": "python",
   "nbconvert_exporter": "python",
   "pygments_lexer": "ipython3",
   "version": "3.7.0"
  }
 },
 "nbformat": 4,
 "nbformat_minor": 2
}
